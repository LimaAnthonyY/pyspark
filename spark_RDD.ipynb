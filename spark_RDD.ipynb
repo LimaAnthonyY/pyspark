{
 "cells": [
  {
   "cell_type": "code",
   "execution_count": 16,
   "id": "8233e291",
   "metadata": {},
   "outputs": [],
   "source": [
    " numeros = sc.parallelize([1,2,3,4,5,6,7,8,9,10])\n",
    "    # Distribute a local Python collection to form an RDD.\n",
    "    # Using range is recommended if the input represents a range for perfomance."
   ]
  },
  {
   "cell_type": "code",
   "execution_count": 6,
   "id": "ec543ac2",
   "metadata": {},
   "outputs": [
    {
     "name": "stderr",
     "output_type": "stream",
     "text": [
      "                                                                                \r"
     ]
    },
    {
     "data": {
      "text/plain": [
       "[1, 2, 3, 4, 5]"
      ]
     },
     "execution_count": 6,
     "metadata": {},
     "output_type": "execute_result"
    }
   ],
   "source": [
    "numeros.take(5)\n",
    "    # It works by first scanning one partition, and use the results from that partition to \n",
    "    # estimate the number of additional partitions needed to satisgy the limit"
   ]
  },
  {
   "cell_type": "code",
   "execution_count": 7,
   "id": "9b27455e",
   "metadata": {},
   "outputs": [
    {
     "name": "stderr",
     "output_type": "stream",
     "text": [
      "                                                                                \r"
     ]
    },
    {
     "data": {
      "text/plain": [
       "[10, 9, 8, 7, 6]"
      ]
     },
     "execution_count": 7,
     "metadata": {},
     "output_type": "execute_result"
    }
   ],
   "source": [
    "numeros.top(5)\n",
    "    # Get the top N elements from an RDD"
   ]
  },
  {
   "cell_type": "code",
   "execution_count": 8,
   "id": "ca7e6d15",
   "metadata": {},
   "outputs": [
    {
     "data": {
      "text/plain": [
       "[1, 2, 3, 4, 5, 6, 7, 8, 9, 10]"
      ]
     },
     "execution_count": 8,
     "metadata": {},
     "output_type": "execute_result"
    }
   ],
   "source": [
    "numeros.collect()\n",
    "    # Returns all the records as a list of row"
   ]
  },
  {
   "cell_type": "code",
   "execution_count": 9,
   "id": "94fce079",
   "metadata": {},
   "outputs": [
    {
     "data": {
      "text/plain": [
       "10"
      ]
     },
     "execution_count": 9,
     "metadata": {},
     "output_type": "execute_result"
    }
   ],
   "source": [
    "numeros.count()\n",
    "    # count a list"
   ]
  },
  {
   "cell_type": "code",
   "execution_count": 10,
   "id": "7804b918",
   "metadata": {},
   "outputs": [
    {
     "data": {
      "text/plain": [
       "5.5"
      ]
     },
     "execution_count": 10,
     "metadata": {},
     "output_type": "execute_result"
    }
   ],
   "source": [
    "numeros.mean()\n",
    "    # Return median"
   ]
  },
  {
   "cell_type": "code",
   "execution_count": 11,
   "id": "5e07c3c6",
   "metadata": {},
   "outputs": [
    {
     "data": {
      "text/plain": [
       "55"
      ]
     },
     "execution_count": 11,
     "metadata": {},
     "output_type": "execute_result"
    }
   ],
   "source": [
    "numeros.sum()\n",
    "    # Return sum of all numbers"
   ]
  },
  {
   "cell_type": "code",
   "execution_count": 12,
   "id": "26152911",
   "metadata": {},
   "outputs": [
    {
     "data": {
      "text/plain": [
       "1"
      ]
     },
     "execution_count": 12,
     "metadata": {},
     "output_type": "execute_result"
    }
   ],
   "source": [
    "numeros.min()\n",
    "    # Return minimal number of a list"
   ]
  },
  {
   "cell_type": "code",
   "execution_count": 13,
   "id": "d307bcf7",
   "metadata": {},
   "outputs": [
    {
     "data": {
      "text/plain": [
       "2.8722813232690143"
      ]
     },
     "execution_count": 13,
     "metadata": {},
     "output_type": "execute_result"
    }
   ],
   "source": [
    "numeros.stdev()\n",
    "    # return standard deviation of a list"
   ]
  },
  {
   "cell_type": "code",
   "execution_count": 17,
   "id": "c4b78368",
   "metadata": {},
   "outputs": [],
   "source": [
    "filtro =  numeros.filter(lambda filtro: filtro > 2 )\n",
    "    # create condition"
   ]
  },
  {
   "cell_type": "code",
   "execution_count": 18,
   "id": "a218255e",
   "metadata": {},
   "outputs": [
    {
     "data": {
      "text/plain": [
       "[3, 4, 5, 6, 7, 8, 9, 10]"
      ]
     },
     "execution_count": 18,
     "metadata": {},
     "output_type": "execute_result"
    }
   ],
   "source": [
    "filtro.collect()\n",
    "    # return the value if attend the condition "
   ]
  },
  {
   "cell_type": "code",
   "execution_count": 19,
   "id": "2eb8cea9",
   "metadata": {},
   "outputs": [],
   "source": [
    "amostra = numeros.sample(True,0.5,1)\n",
    "    # return a sampled subset of this dataframe\n",
    "    # sample(bool,float,int)\n",
    "    # sample(sample with replacement or not(default not), fraction of rows, seed for sampling)"
   ]
  },
  {
   "cell_type": "code",
   "execution_count": 20,
   "id": "911aee0b",
   "metadata": {},
   "outputs": [
    {
     "data": {
      "text/plain": [
       "[2, 3, 4, 5, 8, 10, 10, 10, 10]"
      ]
     },
     "execution_count": 20,
     "metadata": {},
     "output_type": "execute_result"
    }
   ],
   "source": [
    "amostra.collect()\n",
    "    # return the value of condition"
   ]
  },
  {
   "cell_type": "code",
   "execution_count": 21,
   "id": "46812353",
   "metadata": {},
   "outputs": [],
   "source": [
    "mapa = numeros.map(lambda mapa: mapa *2)\n",
    "    # return a new RDD by applying a function to each element of this RDD"
   ]
  },
  {
   "cell_type": "code",
   "execution_count": 22,
   "id": "761fdf30",
   "metadata": {},
   "outputs": [
    {
     "data": {
      "text/plain": [
       "[2, 4, 6, 8, 10, 12, 14, 16, 18, 20]"
      ]
     },
     "execution_count": 22,
     "metadata": {},
     "output_type": "execute_result"
    }
   ],
   "source": [
    "mapa.collect()"
   ]
  },
  {
   "cell_type": "code",
   "execution_count": 23,
   "id": "c49cf214",
   "metadata": {},
   "outputs": [
    {
     "data": {
      "text/plain": [
       "[1, 2, 3, 4, 5, 6, 7, 8, 9, 10]"
      ]
     },
     "execution_count": 23,
     "metadata": {},
     "output_type": "execute_result"
    }
   ],
   "source": [
    "numeros.collect()"
   ]
  },
  {
   "cell_type": "code",
   "execution_count": 24,
   "id": "c3020f35",
   "metadata": {},
   "outputs": [],
   "source": [
    "numeros2 = sc.parallelize([6,7,8,9,10])"
   ]
  },
  {
   "cell_type": "code",
   "execution_count": 25,
   "id": "5d1425c4",
   "metadata": {},
   "outputs": [],
   "source": [
    "uniao = numeros.union(numeros2)\n",
    "    # union of numeros and numeros2"
   ]
  },
  {
   "cell_type": "code",
   "execution_count": 26,
   "id": "38192970",
   "metadata": {},
   "outputs": [
    {
     "data": {
      "text/plain": [
       "[1, 2, 3, 4, 5, 6, 7, 8, 9, 10, 6, 7, 8, 9, 10]"
      ]
     },
     "execution_count": 26,
     "metadata": {},
     "output_type": "execute_result"
    }
   ],
   "source": [
    "uniao.collect()"
   ]
  },
  {
   "cell_type": "code",
   "execution_count": 27,
   "id": "39075407",
   "metadata": {},
   "outputs": [],
   "source": [
    "interseccao = numeros.intersection(numeros2)\n",
    "    # intersection of numeros and numeros2"
   ]
  },
  {
   "cell_type": "code",
   "execution_count": 28,
   "id": "ff9059c1",
   "metadata": {},
   "outputs": [
    {
     "name": "stderr",
     "output_type": "stream",
     "text": [
      "                                                                                \r"
     ]
    },
    {
     "data": {
      "text/plain": [
       "[8, 9, 6, 10, 7]"
      ]
     },
     "execution_count": 28,
     "metadata": {},
     "output_type": "execute_result"
    }
   ],
   "source": [
    "interseccao.collect()"
   ]
  },
  {
   "cell_type": "code",
   "execution_count": 29,
   "id": "31909ca5",
   "metadata": {},
   "outputs": [],
   "source": [
    "subtrai = numeros.subtract(numeros2)\n",
    "    # realize subtract of numeros and numeros2"
   ]
  },
  {
   "cell_type": "code",
   "execution_count": 30,
   "id": "6a739342",
   "metadata": {},
   "outputs": [
    {
     "name": "stderr",
     "output_type": "stream",
     "text": [
      "                                                                                \r"
     ]
    },
    {
     "data": {
      "text/plain": [
       "[4, 1, 5, 2, 3]"
      ]
     },
     "execution_count": 30,
     "metadata": {},
     "output_type": "execute_result"
    }
   ],
   "source": [
    "subtrai.collect()"
   ]
  },
  {
   "cell_type": "code",
   "execution_count": 33,
   "id": "b866fa5f",
   "metadata": {},
   "outputs": [],
   "source": [
    "cartesiano = numeros.cartesian(numeros2)\n",
    "    # realize product cartesian of all number"
   ]
  },
  {
   "cell_type": "code",
   "execution_count": 34,
   "id": "f48f7eac",
   "metadata": {},
   "outputs": [
    {
     "data": {
      "text/plain": [
       "[(1, 6),\n",
       " (1, 7),\n",
       " (2, 6),\n",
       " (2, 7),\n",
       " (3, 6),\n",
       " (3, 7),\n",
       " (4, 6),\n",
       " (4, 7),\n",
       " (5, 6),\n",
       " (5, 7),\n",
       " (1, 8),\n",
       " (1, 9),\n",
       " (2, 8),\n",
       " (2, 9),\n",
       " (3, 8),\n",
       " (3, 9),\n",
       " (4, 8),\n",
       " (4, 9),\n",
       " (5, 8),\n",
       " (5, 9),\n",
       " (1, 10),\n",
       " (2, 10),\n",
       " (3, 10),\n",
       " (4, 10),\n",
       " (5, 10),\n",
       " (6, 6),\n",
       " (6, 7),\n",
       " (7, 6),\n",
       " (7, 7),\n",
       " (8, 6),\n",
       " (8, 7),\n",
       " (9, 6),\n",
       " (9, 7),\n",
       " (10, 6),\n",
       " (10, 7),\n",
       " (6, 8),\n",
       " (6, 9),\n",
       " (7, 8),\n",
       " (7, 9),\n",
       " (8, 8),\n",
       " (8, 9),\n",
       " (9, 8),\n",
       " (9, 9),\n",
       " (10, 8),\n",
       " (10, 9),\n",
       " (6, 10),\n",
       " (7, 10),\n",
       " (8, 10),\n",
       " (9, 10),\n",
       " (10, 10)]"
      ]
     },
     "execution_count": 34,
     "metadata": {},
     "output_type": "execute_result"
    }
   ],
   "source": [
    "cartesiano.collect()"
   ]
  },
  {
   "cell_type": "code",
   "execution_count": 35,
   "id": "4700dcc0",
   "metadata": {},
   "outputs": [
    {
     "data": {
      "text/plain": [
       "defaultdict(int,\n",
       "            {(1, 6): 1,\n",
       "             (1, 7): 1,\n",
       "             (2, 6): 1,\n",
       "             (2, 7): 1,\n",
       "             (3, 6): 1,\n",
       "             (3, 7): 1,\n",
       "             (4, 6): 1,\n",
       "             (4, 7): 1,\n",
       "             (5, 6): 1,\n",
       "             (5, 7): 1,\n",
       "             (1, 8): 1,\n",
       "             (1, 9): 1,\n",
       "             (2, 8): 1,\n",
       "             (2, 9): 1,\n",
       "             (3, 8): 1,\n",
       "             (3, 9): 1,\n",
       "             (4, 8): 1,\n",
       "             (4, 9): 1,\n",
       "             (5, 8): 1,\n",
       "             (5, 9): 1,\n",
       "             (1, 10): 1,\n",
       "             (2, 10): 1,\n",
       "             (3, 10): 1,\n",
       "             (4, 10): 1,\n",
       "             (5, 10): 1,\n",
       "             (6, 6): 1,\n",
       "             (6, 7): 1,\n",
       "             (7, 6): 1,\n",
       "             (7, 7): 1,\n",
       "             (8, 6): 1,\n",
       "             (8, 7): 1,\n",
       "             (9, 6): 1,\n",
       "             (9, 7): 1,\n",
       "             (10, 6): 1,\n",
       "             (10, 7): 1,\n",
       "             (6, 8): 1,\n",
       "             (6, 9): 1,\n",
       "             (7, 8): 1,\n",
       "             (7, 9): 1,\n",
       "             (8, 8): 1,\n",
       "             (8, 9): 1,\n",
       "             (9, 8): 1,\n",
       "             (9, 9): 1,\n",
       "             (10, 8): 1,\n",
       "             (10, 9): 1,\n",
       "             (6, 10): 1,\n",
       "             (7, 10): 1,\n",
       "             (8, 10): 1,\n",
       "             (9, 10): 1,\n",
       "             (10, 10): 1})"
      ]
     },
     "execution_count": 35,
     "metadata": {},
     "output_type": "execute_result"
    }
   ],
   "source": [
    "cartesiano.countByValue()\n",
    "    # counting cartesian by number of times it appears"
   ]
  },
  {
   "cell_type": "code",
   "execution_count": 36,
   "id": "3d643778",
   "metadata": {},
   "outputs": [],
   "source": [
    "compras = sc.parallelize([(1,200),(2,300),(3,120),(4,250),(5,78)])\n",
    "    # Creating information of clients with key and values"
   ]
  },
  {
   "cell_type": "code",
   "execution_count": 37,
   "id": "e41c5bfe",
   "metadata": {},
   "outputs": [],
   "source": [
    "chaves = compras.keys()\n",
    "    # Creating keys of compras\n",
    "valores = compras.values()\n",
    "    # Creating values of compras"
   ]
  },
  {
   "cell_type": "code",
   "execution_count": 38,
   "id": "429d764c",
   "metadata": {},
   "outputs": [
    {
     "data": {
      "text/plain": [
       "[1, 2, 3, 4, 5]"
      ]
     },
     "execution_count": 38,
     "metadata": {},
     "output_type": "execute_result"
    }
   ],
   "source": [
    "chaves.collect()"
   ]
  },
  {
   "cell_type": "code",
   "execution_count": 39,
   "id": "76580509",
   "metadata": {},
   "outputs": [
    {
     "data": {
      "text/plain": [
       "[200, 300, 120, 250, 78]"
      ]
     },
     "execution_count": 39,
     "metadata": {},
     "output_type": "execute_result"
    }
   ],
   "source": [
    "valores.collect()"
   ]
  },
  {
   "cell_type": "code",
   "execution_count": 40,
   "id": "8a4f89ce",
   "metadata": {},
   "outputs": [
    {
     "data": {
      "text/plain": [
       "defaultdict(int, {1: 1, 2: 1, 3: 1, 4: 1, 5: 1})"
      ]
     },
     "execution_count": 40,
     "metadata": {},
     "output_type": "execute_result"
    }
   ],
   "source": [
    "compras.countByKey()\n",
    "    # counting elements by Keys"
   ]
  },
  {
   "cell_type": "code",
   "execution_count": 41,
   "id": "7206af62",
   "metadata": {},
   "outputs": [],
   "source": [
    "soma = compras.mapValues(lambda soma: soma+1)\n",
    "    # Applying function value without change of key"
   ]
  },
  {
   "cell_type": "code",
   "execution_count": 42,
   "id": "c56c77eb",
   "metadata": {},
   "outputs": [
    {
     "data": {
      "text/plain": [
       "[(1, 201), (2, 301), (3, 121), (4, 251), (5, 79)]"
      ]
     },
     "execution_count": 42,
     "metadata": {},
     "output_type": "execute_result"
    }
   ],
   "source": [
    "soma.collect()"
   ]
  },
  {
   "cell_type": "code",
   "execution_count": 43,
   "id": "8e845c50",
   "metadata": {},
   "outputs": [
    {
     "data": {
      "text/plain": [
       "[(1, 200), (2, 300), (3, 120), (4, 250), (5, 78)]"
      ]
     },
     "execution_count": 43,
     "metadata": {},
     "output_type": "execute_result"
    }
   ],
   "source": [
    "    # Other example\n",
    "compras.collect()"
   ]
  },
  {
   "cell_type": "code",
   "execution_count": 44,
   "id": "e95cc1d6",
   "metadata": {},
   "outputs": [],
   "source": [
    "debitos = sc.parallelize([(1,20),(2,300)])"
   ]
  },
  {
   "cell_type": "code",
   "execution_count": 45,
   "id": "ffb67f7f",
   "metadata": {},
   "outputs": [
    {
     "name": "stderr",
     "output_type": "stream",
     "text": [
      "                                                                                \r"
     ]
    },
    {
     "data": {
      "text/plain": [
       "[(1, (200, 20)), (2, (300, 300))]"
      ]
     },
     "execution_count": 45,
     "metadata": {},
     "output_type": "execute_result"
    }
   ],
   "source": [
    "    # Showing only clients with debits\n",
    "resultado = compras.join(debitos)\n",
    "resultado.collect()"
   ]
  },
  {
   "cell_type": "code",
   "execution_count": 46,
   "id": "beec8ca2",
   "metadata": {},
   "outputs": [
    {
     "data": {
      "text/plain": [
       "[(4, 250), (5, 78), (3, 120)]"
      ]
     },
     "execution_count": 46,
     "metadata": {},
     "output_type": "execute_result"
    }
   ],
   "source": [
    "    # Showing only clients without debits\n",
    "semdebito = compras.subtractByKey(debitos)\n",
    "semdebito.collect()"
   ]
  },
  {
   "cell_type": "code",
   "execution_count": null,
   "id": "83f8078f",
   "metadata": {},
   "outputs": [],
   "source": []
  },
  {
   "cell_type": "code",
   "execution_count": null,
   "id": "a0431c25",
   "metadata": {},
   "outputs": [],
   "source": []
  }
 ],
 "metadata": {
  "kernelspec": {
   "display_name": "Python 3 (ipykernel)",
   "language": "python",
   "name": "python3"
  },
  "language_info": {
   "codemirror_mode": {
    "name": "ipython",
    "version": 3
   },
   "file_extension": ".py",
   "mimetype": "text/x-python",
   "name": "python",
   "nbconvert_exporter": "python",
   "pygments_lexer": "ipython3",
   "version": "3.10.12"
  }
 },
 "nbformat": 4,
 "nbformat_minor": 5
}
