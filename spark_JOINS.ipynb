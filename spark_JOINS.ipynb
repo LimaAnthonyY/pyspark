{
 "cells": [
  {
   "cell_type": "code",
   "execution_count": 129,
   "id": "9fe27ca3",
   "metadata": {},
   "outputs": [],
   "source": [
    "recschema = \"idrec INT, datarec STRING, iddesp INT\""
   ]
  },
  {
   "cell_type": "code",
   "execution_count": 130,
   "id": "61146184",
   "metadata": {},
   "outputs": [],
   "source": [
    "reclamacoes = spark.read.csv(\"/home/anthony/pyspark/Arquivos adicionais/reclamacoes.csv\", header=False, schema= recschema)"
   ]
  },
  {
   "cell_type": "code",
   "execution_count": 131,
   "id": "5e9dfbf3",
   "metadata": {},
   "outputs": [
    {
     "name": "stdout",
     "output_type": "stream",
     "text": [
      "+-----+----------+------+\n",
      "|idrec|   datarec|iddesp|\n",
      "+-----+----------+------+\n",
      "|    1|2020-09-12|     2|\n",
      "|    2|2020-09-11|     2|\n",
      "|    3|2020-10-05|     4|\n",
      "|    4|2020-10-02|     5|\n",
      "|    5|2020-12-06|     5|\n",
      "|    6|2020-01-09|     5|\n",
      "|    7|2020-01-05|     9|\n",
      "+-----+----------+------+\n",
      "\n"
     ]
    }
   ],
   "source": [
    "reclamacoes.show()"
   ]
  },
  {
   "cell_type": "code",
   "execution_count": 132,
   "id": "ad1a102b",
   "metadata": {},
   "outputs": [
    {
     "name": "stderr",
     "output_type": "stream",
     "text": [
      "                                                                                \r"
     ]
    }
   ],
   "source": [
    "reclamacoes.write.saveAsTable(\"reclamacoes\")"
   ]
  },
  {
   "cell_type": "code",
   "execution_count": 137,
   "id": "5e2b541c",
   "metadata": {},
   "outputs": [
    {
     "name": "stdout",
     "output_type": "stream",
     "text": [
      "+-----+----------+------+-------------------+\n",
      "|idrec|   datarec|iddesp|               nome|\n",
      "+-----+----------+------+-------------------+\n",
      "|    1|2020-09-12|     2|    Deolinda Vilela|\n",
      "|    2|2020-09-11|     2|    Deolinda Vilela|\n",
      "|    3|2020-10-05|     4|Felisbela Dornelles|\n",
      "|    4|2020-10-02|     5|     Graça Ornellas|\n",
      "|    5|2020-12-06|     5|     Graça Ornellas|\n",
      "|    6|2020-01-09|     5|     Graça Ornellas|\n",
      "|    7|2020-01-05|     9|      Uriel Queiroz|\n",
      "+-----+----------+------+-------------------+\n",
      "\n"
     ]
    }
   ],
   "source": [
    "spark.sql(\"select reclamacoes.*, despachantes.nome from despachantes inner join reclamacoes on (despachantes.id = reclamacoes.iddesp)\").show()\n",
    "# faz a junção e tras apenas o que tem algum dado"
   ]
  },
  {
   "cell_type": "code",
   "execution_count": 135,
   "id": "04c851e4",
   "metadata": {},
   "outputs": [
    {
     "name": "stdout",
     "output_type": "stream",
     "text": [
      "+-----+----------+------+-------------------+\n",
      "|idrec|   datarec|iddesp|               nome|\n",
      "+-----+----------+------+-------------------+\n",
      "|    1|2020-09-12|     2|    Deolinda Vilela|\n",
      "|    2|2020-09-11|     2|    Deolinda Vilela|\n",
      "|    3|2020-10-05|     4|Felisbela Dornelles|\n",
      "|    4|2020-10-02|     5|     Graça Ornellas|\n",
      "|    5|2020-12-06|     5|     Graça Ornellas|\n",
      "|    6|2020-01-09|     5|     Graça Ornellas|\n",
      "|    7|2020-01-05|     9|      Uriel Queiroz|\n",
      "+-----+----------+------+-------------------+\n",
      "\n"
     ]
    }
   ],
   "source": [
    "spark.sql(\"select reclamacoes.*, despachantes.nome from despachantes right join reclamacoes on (despachantes.id = reclamacoes.iddesp)\").show()\n",
    "# tras apenas o que tem algum dado"
   ]
  },
  {
   "cell_type": "code",
   "execution_count": 136,
   "id": "98373070",
   "metadata": {},
   "outputs": [
    {
     "name": "stdout",
     "output_type": "stream",
     "text": [
      "+-----+----------+------+-------------------+\n",
      "|idrec|   datarec|iddesp|               nome|\n",
      "+-----+----------+------+-------------------+\n",
      "| NULL|      NULL|  NULL|   Carminda Pestana|\n",
      "|    2|2020-09-11|     2|    Deolinda Vilela|\n",
      "|    1|2020-09-12|     2|    Deolinda Vilela|\n",
      "| NULL|      NULL|  NULL|   Emídio Dornelles|\n",
      "|    3|2020-10-05|     4|Felisbela Dornelles|\n",
      "|    6|2020-01-09|     5|     Graça Ornellas|\n",
      "|    5|2020-12-06|     5|     Graça Ornellas|\n",
      "|    4|2020-10-02|     5|     Graça Ornellas|\n",
      "| NULL|      NULL|  NULL|   Matilde Rebouças|\n",
      "| NULL|      NULL|  NULL|    Noêmia   Orriça|\n",
      "| NULL|      NULL|  NULL|      Roque Vásquez|\n",
      "|    7|2020-01-05|     9|      Uriel Queiroz|\n",
      "| NULL|      NULL|  NULL|   Viviana Sequeira|\n",
      "+-----+----------+------+-------------------+\n",
      "\n"
     ]
    }
   ],
   "source": [
    "spark.sql(\"select reclamacoes.*, despachantes.nome from despachantes left join reclamacoes on (despachantes.id = reclamacoes.iddesp)\").show()\n",
    "# tras todos os que tem algum dado e os que não"
   ]
  },
  {
   "cell_type": "code",
   "execution_count": 1,
   "id": "35b1d006",
   "metadata": {},
   "outputs": [
    {
     "ename": "NameError",
     "evalue": "name 'despachantes' is not defined",
     "output_type": "error",
     "traceback": [
      "\u001b[0;31m---------------------------------------------------------------------------\u001b[0m",
      "\u001b[0;31mNameError\u001b[0m                                 Traceback (most recent call last)",
      "Cell \u001b[0;32mIn[1], line 1\u001b[0m\n\u001b[0;32m----> 1\u001b[0m \u001b[43mdespachantes\u001b[49m\u001b[38;5;241m.\u001b[39mjoin(reclamacoes, despachantes[\u001b[38;5;124m\"\u001b[39m\u001b[38;5;124mID\u001b[39m\u001b[38;5;124m\"\u001b[39m] \u001b[38;5;241m==\u001b[39m reclamacoes[\u001b[38;5;124m\"\u001b[39m\u001b[38;5;124middesp\u001b[39m\u001b[38;5;124m\"\u001b[39m], \u001b[38;5;124m\"\u001b[39m\u001b[38;5;124minner\u001b[39m\u001b[38;5;124m\"\u001b[39m)\\\n\u001b[1;32m      2\u001b[0m             \u001b[38;5;241m.\u001b[39mselect(\u001b[38;5;124m\"\u001b[39m\u001b[38;5;124midrec\u001b[39m\u001b[38;5;124m\"\u001b[39m, \u001b[38;5;124m\"\u001b[39m\u001b[38;5;124mdatarec\u001b[39m\u001b[38;5;124m\"\u001b[39m, \u001b[38;5;124m\"\u001b[39m\u001b[38;5;124middesp\u001b[39m\u001b[38;5;124m\"\u001b[39m, \u001b[38;5;124m\"\u001b[39m\u001b[38;5;124mNome\u001b[39m\u001b[38;5;124m\"\u001b[39m)\\\n\u001b[1;32m      3\u001b[0m             \u001b[38;5;241m.\u001b[39mshow()\n\u001b[1;32m      4\u001b[0m \u001b[38;5;66;03m# Join Inner só que com spark direto sem sql\u001b[39;00m\n",
      "\u001b[0;31mNameError\u001b[0m: name 'despachantes' is not defined"
     ]
    }
   ],
   "source": [
    "despachantes.join(reclamacoes, despachantes[\"ID\"] == reclamacoes[\"iddesp\"], \"inner\")\\\n",
    "            .select(\"idrec\", \"datarec\", \"iddesp\", \"Nome\")\\\n",
    "            .show()\n",
    "# Join Inner só que com spark direto sem sql"
   ]
  },
  {
   "cell_type": "code",
   "execution_count": 155,
   "id": "60f1afad",
   "metadata": {},
   "outputs": [
    {
     "name": "stdout",
     "output_type": "stream",
     "text": [
      "+-----+----------+------+-------------------+\n",
      "|idrec|   datarec|iddesp|               Nome|\n",
      "+-----+----------+------+-------------------+\n",
      "|    1|2020-09-12|     2|    Deolinda Vilela|\n",
      "|    2|2020-09-11|     2|    Deolinda Vilela|\n",
      "|    3|2020-10-05|     4|Felisbela Dornelles|\n",
      "|    4|2020-10-02|     5|     Graça Ornellas|\n",
      "|    5|2020-12-06|     5|     Graça Ornellas|\n",
      "|    6|2020-01-09|     5|     Graça Ornellas|\n",
      "|    7|2020-01-05|     9|      Uriel Queiroz|\n",
      "+-----+----------+------+-------------------+\n",
      "\n"
     ]
    }
   ],
   "source": [
    "despachantes.join(reclamacoes, despachantes[\"ID\"] == reclamacoes[\"iddesp\"], \"right\")\\\n",
    "            .select(\"idrec\", \"datarec\", \"iddesp\", \"Nome\")\\\n",
    "            .show()\n",
    "# Join right só que com spark direto sem sql"
   ]
  },
  {
   "cell_type": "code",
   "execution_count": 157,
   "id": "d9de7740",
   "metadata": {},
   "outputs": [
    {
     "name": "stdout",
     "output_type": "stream",
     "text": [
      "+-----+----------+------+-------------------+\n",
      "|idrec|   datarec|iddesp|               Nome|\n",
      "+-----+----------+------+-------------------+\n",
      "| NULL|      NULL|  NULL|   Carminda Pestana|\n",
      "|    2|2020-09-11|     2|    Deolinda Vilela|\n",
      "|    1|2020-09-12|     2|    Deolinda Vilela|\n",
      "| NULL|      NULL|  NULL|   Emídio Dornelles|\n",
      "|    3|2020-10-05|     4|Felisbela Dornelles|\n",
      "|    6|2020-01-09|     5|     Graça Ornellas|\n",
      "|    5|2020-12-06|     5|     Graça Ornellas|\n",
      "|    4|2020-10-02|     5|     Graça Ornellas|\n",
      "| NULL|      NULL|  NULL|   Matilde Rebouças|\n",
      "| NULL|      NULL|  NULL|    Noêmia   Orriça|\n",
      "| NULL|      NULL|  NULL|      Roque Vásquez|\n",
      "|    7|2020-01-05|     9|      Uriel Queiroz|\n",
      "| NULL|      NULL|  NULL|   Viviana Sequeira|\n",
      "+-----+----------+------+-------------------+\n",
      "\n"
     ]
    }
   ],
   "source": [
    "despachantes.join(reclamacoes, despachantes[\"ID\"] == reclamacoes[\"iddesp\"], \"left\")\\\n",
    "            .select(\"idrec\", \"datarec\", \"iddesp\", \"Nome\")\\\n",
    "            .show()\n",
    "# Join left só que com spark direto sem sql"
   ]
  },
  {
   "cell_type": "code",
   "execution_count": 159,
   "id": "b0415cad",
   "metadata": {},
   "outputs": [
    {
     "name": "stdout",
     "output_type": "stream",
     "text": [
      "+-----+-------+------+----------------+\n",
      "|idrec|datarec|iddesp|            Nome|\n",
      "+-----+-------+------+----------------+\n",
      "| NULL|   NULL|  NULL|Carminda Pestana|\n",
      "| NULL|   NULL|  NULL|Emídio Dornelles|\n",
      "| NULL|   NULL|  NULL|Matilde Rebouças|\n",
      "| NULL|   NULL|  NULL| Noêmia   Orriça|\n",
      "| NULL|   NULL|  NULL|   Roque Vásquez|\n",
      "| NULL|   NULL|  NULL|Viviana Sequeira|\n",
      "+-----+-------+------+----------------+\n",
      "\n"
     ]
    }
   ],
   "source": [
    "# Realizando um left join\n",
    "resultados = despachantes.join(reclamacoes, despachantes[\"ID\"] == reclamacoes[\"iddesp\"], \"left\") \\\n",
    "    .select(\"idrec\", \"datarec\", \"iddesp\", \"Nome\")\n",
    "\n",
    "# Filtrando para mostrar apenas os registros com nulls\n",
    "resultados.filter(\n",
    "    Func.col(\"idrec\").isNull() | \n",
    "    Func.col(\"datarec\").isNull() | \n",
    "    Func.col(\"iddesp\").isNull() | \n",
    "    Func.col(\"Nome\").isNull()\n",
    ").show()\n"
   ]
  },
  {
   "cell_type": "code",
   "execution_count": 164,
   "id": "07aaaefe",
   "metadata": {},
   "outputs": [
    {
     "ename": "SyntaxError",
     "evalue": "incomplete input (3501554614.py, line 4)",
     "output_type": "error",
     "traceback": [
      "\u001b[0;36m  Cell \u001b[0;32mIn[164], line 4\u001b[0;36m\u001b[0m\n\u001b[0;31m    \"\"\"\u001b[0m\n\u001b[0m    ^\u001b[0m\n\u001b[0;31mSyntaxError\u001b[0m\u001b[0;31m:\u001b[0m incomplete input\n"
     ]
    }
   ],
   "source": [
    "# também é possível interagir com as tabelas utilizando o sql puro\n",
    "spark-sql #no terminal\n",
    "\n",
    "# Terminal exemplo\n",
    "\"\"\"\n",
    "\n",
    "anthony@anthony-VirtualBox:~$ spark-sql\n",
    "24/11/04 15:34:40 WARN Utils: Your hostname, anthony-VirtualBox resolves to a loopback address: 127.0.1.1; using 10.0.2.15 instead (on interface enp0s3)\n",
    "24/11/04 15:34:40 WARN Utils: Set SPARK_LOCAL_IP if you need to bind to another address\n",
    "Setting default log level to \"WARN\".\n",
    "To adjust logging level use sc.setLogLevel(newLevel). For SparkR, use setLogLevel(newLevel).\n",
    "24/11/04 15:34:41 WARN NativeCodeLoader: Unable to load native-hadoop library for your platform... using builtin-java classes where applicable\n",
    "24/11/04 15:34:43 WARN Utils: Service 'SparkUI' could not bind on port 4040. Attempting port 4041.\n",
    "24/11/04 15:34:43 WARN Utils: Service 'SparkUI' could not bind on port 4041. Attempting port 4042.\n",
    "24/11/04 15:34:43 WARN Utils: Service 'SparkUI' could not bind on port 4042. Attempting port 4043.\n",
    "24/11/04 15:34:43 WARN Utils: Service 'SparkUI' could not bind on port 4043. Attempting port 4044.\n",
    "24/11/04 15:34:43 WARN Utils: Service 'SparkUI' could not bind on port 4044. Attempting port 4045.\n",
    "24/11/04 15:34:44 WARN HiveConf: HiveConf of name hive.stats.jdbc.timeout does not exist\n",
    "24/11/04 15:34:44 WARN HiveConf: HiveConf of name hive.stats.retries.wait does not exist\n",
    "24/11/04 15:34:47 WARN ObjectStore: Version information not found in metastore. hive.metastore.schema.verification is not enabled so recording the schema version 2.3.0\n",
    "24/11/04 15:34:47 WARN ObjectStore: setMetaStoreSchemaVersion called but recording version is disabled: version = 2.3.0, comment = Set by MetaStore anthony@127.0.1.1\n",
    "Spark Web UI available at http://10.0.2.15:4045\n",
    "Spark master: local[*], Application Id: local-1730745283218\n",
    "\n",
    "spark-sql (default)> show databases;\n",
    "default\n",
    "Time taken: 1.533 seconds, Fetched 1 row(s)\n",
    "spark-sql (default)> 24/11/04 15:34:55 WARN GarbageCollectionMetrics: To enable non-built-in garbage collector(s) List(G1 Concurrent GC), users should configure it(them) to spark.eventLog.gcMetrics.youngGenerationGarbageCollectors or spark.eventLog.gcMetrics.oldGenerationGarbageCollectors\n",
    "\n",
    "show databases;\n",
    "default\n",
    "Time taken: 0.093 seconds, Fetched 1 row(s)\n",
    "spark-sql (default)> \n",
    "\n",
    "\"\"\""
   ]
  },
  {
   "cell_type": "code",
   "execution_count": 2,
   "id": "5e853d27",
   "metadata": {},
   "outputs": [
    {
     "ename": "SyntaxError",
     "evalue": "leading zeros in decimal integer literals are not permitted; use an 0o prefix for octal integers (443073397.py, line 5)",
     "output_type": "error",
     "traceback": [
      "\u001b[0;36m  Cell \u001b[0;32mIn[2], line 5\u001b[0;36m\u001b[0m\n\u001b[0;31m    spark-sql (default)> 24/11/04 15:34:55 WARN GarbageCollectionMetrics: To enable non-built-in garbage collector(s) List(G1 Concurrent GC), users should configure it(them) to spark.eventLog.gcMetrics.youngGenerationGarbageCollectors or spark.eventLog.gcMetrics.oldGenerationGarbageCollectors\u001b[0m\n\u001b[0m                               ^\u001b[0m\n\u001b[0;31mSyntaxError\u001b[0m\u001b[0;31m:\u001b[0m leading zeros in decimal integer literals are not permitted; use an 0o prefix for octal integers\n"
     ]
    }
   ],
   "source": [
    "###utilizando o show databases;\n",
    "spark-sql (default)> show databases;\n",
    "default\n",
    "Time taken: 1.533 seconds, Fetched 1 row(s)\n",
    "spark-sql (default)> 24/11/04 15:34:55 WARN GarbageCollectionMetrics: To enable non-built-in garbage collector(s) List(G1 Concurrent GC), users should configure it(them) to spark.eventLog.gcMetrics.youngGenerationGarbageCollectors or spark.eventLog.gcMetrics.oldGenerationGarbageCollectors\n",
    "\n",
    "show databases;\n",
    "default\n",
    "Time taken: 0.093 seconds, Fetched 1 row(s)\n",
    "spark-sql (default)> "
   ]
  },
  {
   "cell_type": "code",
   "execution_count": null,
   "id": "9b48f2df",
   "metadata": {},
   "outputs": [],
   "source": []
  }
 ],
 "metadata": {
  "kernelspec": {
   "display_name": "Python 3 (ipykernel)",
   "language": "python",
   "name": "python3"
  },
  "language_info": {
   "codemirror_mode": {
    "name": "ipython",
    "version": 3
   },
   "file_extension": ".py",
   "mimetype": "text/x-python",
   "name": "python",
   "nbconvert_exporter": "python",
   "pygments_lexer": "ipython3",
   "version": "3.12.3"
  }
 },
 "nbformat": 4,
 "nbformat_minor": 5
}
