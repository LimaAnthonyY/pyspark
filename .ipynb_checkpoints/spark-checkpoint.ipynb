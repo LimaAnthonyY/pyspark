{
 "cells": [
  {
   "cell_type": "code",
   "execution_count": null,
   "id": "a6704bc3",
   "metadata": {},
   "outputs": [],
   "source": [
    "from pyspark.sql import SparkSession\n",
    "from pyspark.sql.types import TimestampType\n",
    "from pyspark.sql.functions import *\n",
    "import datetime"
   ]
  },
  {
   "cell_type": "code",
   "execution_count": null,
   "id": "7f5eaa78",
   "metadata": {},
   "outputs": [],
   "source": [
    "df = spark.read.format(\"csv\").load(\"/home/anthony/pyspark/Brazilian E-Commerce Public Dataset by Olist.csv\", header = True)\n",
    "df.schema"
   ]
  },
  {
   "cell_type": "code",
   "execution_count": null,
   "id": "b28c3a07",
   "metadata": {},
   "outputs": [],
   "source": [
    "dff = df.select(\"order_id\",\"customer_id\",\"customer_unique_id\",\"customer_city\",\"customer_state\",\"product_category_name\",\"seller_city\",\"seller_state\",\"payment_type\",\"payment_installments\",\"price\",\"freight_value\",\"payment_value\",\"order_purchase_timestamp\",\"order_approved_at\",\"day_of_purchase\",\"month_of_purchase\",\"year_of_purchase\",\"order_unique_id\")\n",
    "dff = dff.withColumn(\"order_approved_at\", to_timestamp(Func.col(\"order_approved_at\"), \"yyyy-MM-dd HH:mm:ss\"))\n",
    "dff = dff.withColumn(\"order_purchase_timestamp\", to_timestamp(Func.col(\"order_purchase_timestamp\"), \"yyyy-MM-dd HH:mm:ss\"))\n"
   ]
  },
  {
   "cell_type": "code",
   "execution_count": null,
   "id": "fcc0ac11",
   "metadata": {},
   "outputs": [],
   "source": [
    "\n",
    "# Converter o tipo de coluna para TimesStamp e assim poder manipular as datas separadamente\n",
    "dff = dff.withColumn(\"order_approved_at\", col(\"order_approved_at\").cast(TimestampType()))\n",
    "\n",
    "# Definir uma UDF para conseguir alterar o ano de 2018 para 2023\n",
    "def change_year2018(date):\n",
    "    if date.year == 2018:\n",
    "        return datetime.datetime(2023, date.month, date.day, date.hour, date.minute, date.second)\n",
    "    return date\n",
    "\n",
    "# Definir uma UDF para conseguir alterar o ano de 2017 para 2022\n",
    "def change_year2017(date):\n",
    "    if date.year == 2017:\n",
    "        return datetime.datetime(2022, date.month, date.day, date.hour, date.minute, date.second)\n",
    "    return date\n",
    "\n",
    "# Definir uma UDF para conseguir alterar o ano de 2016 para 2021\n",
    "def change_year2016(date):\n",
    "    if date.year == 2016:\n",
    "        return datetime.datetime(2021, date.month, date.day, date.hour, date.minute, date.second)\n",
    "    return date\n",
    "\n",
    "# Definido as funçes criamos as variaveis separadas de tranformaçao de 2018,2017 e 2016\n",
    "change_year_udf2018 = udf(change_year2018, TimestampType())\n",
    "change_year_udf2017 = udf(change_year2017, TimestampType())\n",
    "change_year_udf2016 = udf(change_year2016, TimestampType())\n",
    "\n",
    "# Com o withColumn alteramos as colunas sobrescrevendo seus valores com o ano atualizado definido na funçao\n",
    "dff = dff.withColumn(\"order_approved_at\", change_year_udf2018(col(\"order_approved_at\")))\n",
    "dff = dff.withColumn(\"order_approved_at\", change_year_udf2017(col(\"order_approved_at\")))\n",
    "dff = dff.withColumn(\"order_approved_at\", change_year_udf2016(col(\"order_approved_at\")))\n",
    "\n",
    "# Alteramos a coluna \"day_of_purchase\" para o dia do ano correto, j\n",
    "dff = dff.withColumn(\"day_of_purchase\", date_format(col(\"order_approved_at\"), \"EEEE\"))\n",
    "\n"
   ]
  },
  {
   "cell_type": "code",
   "execution_count": null,
   "id": "ceb25f9d",
   "metadata": {},
   "outputs": [],
   "source": []
  },
  {
   "cell_type": "code",
   "execution_count": null,
   "id": "721bb887",
   "metadata": {},
   "outputs": [],
   "source": []
  },
  {
   "cell_type": "code",
   "execution_count": null,
   "id": "db081725",
   "metadata": {},
   "outputs": [],
   "source": []
  },
  {
   "cell_type": "code",
   "execution_count": null,
   "id": "6d59352c",
   "metadata": {},
   "outputs": [],
   "source": []
  },
  {
   "cell_type": "code",
   "execution_count": null,
   "id": "a5352b8a",
   "metadata": {},
   "outputs": [],
   "source": []
  },
  {
   "cell_type": "code",
   "execution_count": null,
   "id": "00be69e8",
   "metadata": {},
   "outputs": [],
   "source": []
  },
  {
   "cell_type": "code",
   "execution_count": null,
   "id": "424a7ef8",
   "metadata": {},
   "outputs": [],
   "source": []
  },
  {
   "cell_type": "code",
   "execution_count": null,
   "id": "088dde4f",
   "metadata": {},
   "outputs": [],
   "source": []
  },
  {
   "cell_type": "code",
   "execution_count": null,
   "id": "fec27f83",
   "metadata": {},
   "outputs": [],
   "source": []
  },
  {
   "cell_type": "code",
   "execution_count": null,
   "id": "191d17e5",
   "metadata": {},
   "outputs": [],
   "source": []
  },
  {
   "cell_type": "code",
   "execution_count": null,
   "id": "c8da7723",
   "metadata": {},
   "outputs": [],
   "source": []
  }
 ],
 "metadata": {
  "kernelspec": {
   "display_name": "Python 3 (ipykernel)",
   "language": "python",
   "name": "python3"
  },
  "language_info": {
   "codemirror_mode": {
    "name": "ipython",
    "version": 3
   },
   "file_extension": ".py",
   "mimetype": "text/x-python",
   "name": "python",
   "nbconvert_exporter": "python",
   "pygments_lexer": "ipython3",
   "version": "3.10.12"
  }
 },
 "nbformat": 4,
 "nbformat_minor": 5
}
