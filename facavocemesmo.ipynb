{
 "cells": [
  {
   "cell_type": "code",
   "execution_count": 1,
   "id": "d99ff3f6",
   "metadata": {},
   "outputs": [
    {
     "name": "stderr",
     "output_type": "stream",
     "text": [
      "                                                                                \r"
     ]
    }
   ],
   "source": [
    "    # 1- Crie uma consulta que mostre, nesta ordem:\n",
    "        # Nome, Estados e Status\n",
    "\n",
    "df = spark.read.format(\"parquet\").load(\"/home/anthony/pyspark/Arquivos adicionais/Atividades/Clientes.parquet\")\n",
    "dfv = df.withColumnRenamed(\"Cliente\", \"Nome\")\n",
    "dfvendas = dfv.withColumnRenamed(\"Estado\", \"Estados\")"
   ]
  },
  {
   "cell_type": "code",
   "execution_count": 37,
   "id": "b6fee0f0",
   "metadata": {},
   "outputs": [
    {
     "name": "stdout",
     "output_type": "stream",
     "text": [
      "+--------------------+-------+--------+\n",
      "|                Nome|Estados|  Status|\n",
      "+--------------------+-------+--------+\n",
      "|Adelina Buenaventura|     RJ|  Silver|\n",
      "|        Adelino Gago|     RJ|  Silver|\n",
      "|     Adolfo Patrício|     PE|  Silver|\n",
      "|    Adriana Guedelha|     RO|Platinum|\n",
      "|       Adélio Lisboa|     SE|  Silver|\n",
      "|       Adérito Bahía|     MA|  Silver|\n",
      "|       Aida Dorneles|     RN|  Silver|\n",
      "|   Alarico Quinterno|     AC|  Silver|\n",
      "|    Alberto Cezimbra|     AM|  Silver|\n",
      "|    Alberto Monsanto|     RN|    Gold|\n",
      "|       Albino Canela|     AC|  Silver|\n",
      "|     Alceste Varanda|     RR|  Silver|\n",
      "|  Alcides Carvalhais|     RO|  Silver|\n",
      "|        Aldo Martins|     GO|  Silver|\n",
      "|   Alexandra Tabares|     MG|  Silver|\n",
      "|      Alfredo Cotrim|     SC|  Silver|\n",
      "|     Almeno Figueira|     SC|  Silver|\n",
      "|      Alvito Peralta|     AM|  Silver|\n",
      "|     Amadeu Martinho|     RN|  Silver|\n",
      "|      Amélia Estévez|     PE|  Silver|\n",
      "+--------------------+-------+--------+\n",
      "only showing top 20 rows\n",
      "\n"
     ]
    }
   ],
   "source": [
    "Atv1 = dfvendas.select('Nome', 'Estados', 'Status')\n",
    "Atv1.show()"
   ]
  },
  {
   "cell_type": "code",
   "execution_count": 52,
   "id": "95d121b8",
   "metadata": {},
   "outputs": [
    {
     "name": "stdout",
     "output_type": "stream",
     "text": [
      "+---------+-------------------+-------+------+--------+\n",
      "|ClienteID|               Nome|Estados|Genero|  Status|\n",
      "+---------+-------------------+-------+------+--------+\n",
      "|        4|   Adriana Guedelha|     RO|     F|Platinum|\n",
      "|       10|   Alberto Monsanto|     RN|     M|    Gold|\n",
      "|       28|      Anna Carvajal|     RS|     F|    Gold|\n",
      "|       49|      Bento Quintão|     SP|     M|    Gold|\n",
      "|       68|      Carminda Dias|     AM|     F|    Gold|\n",
      "|       83|      Cláudio Jorge|     TO|     M|    Gold|\n",
      "|      121|    Dionísio Saltão|     PR|     M|    Gold|\n",
      "|      166|   Firmino Meireles|     AM|     M|    Gold|\n",
      "|      170|      Flor Vilanova|     CE|     M|Platinum|\n",
      "|      220|Honorina Villaverde|     PE|     F|    Gold|\n",
      "|      230|    Ibijara Botelho|     RR|     F|Platinum|\n",
      "|      237|  Iracema Rodríguez|     BA|     F|    Gold|\n",
      "|      247|         Joana Ataí|     GO|     F|Platinum|\n",
      "+---------+-------------------+-------+------+--------+\n",
      "\n"
     ]
    }
   ],
   "source": [
    "    # 2- Crie uma consulta que mostre apenas os clientes do Status \"Platinum\" e \"Gold\"\n",
    "\n",
    "from pyspark.sql import functions as Func\n",
    "from pyspark.sql.functions import *\n",
    "\n",
    "Atv2 = dfvendas.select(\"*\").where((Func.col(\"Status\")==\"Platinum\") | (Func.col(\"Status\")==\"Gold\"))\n",
    "Atv2.show()"
   ]
  },
  {
   "cell_type": "code",
   "execution_count": 9,
   "id": "3bc8dc2d",
   "metadata": {},
   "outputs": [
    {
     "name": "stdout",
     "output_type": "stream",
     "text": [
      "+--------+----------+---------+---------+--------+\n",
      "|VendasID|VendedorID|ClienteID|     Data|   Total|\n",
      "+--------+----------+---------+---------+--------+\n",
      "|       1|         1|       91| 1/1/2019|  8053.6|\n",
      "|       2|         6|      185| 1/1/2020|   150.4|\n",
      "|       3|         7|       31| 2/1/2020|  6087.0|\n",
      "|       4|         5|       31| 2/1/2019| 13828.6|\n",
      "|       5|         5|       31| 3/1/2018|26096.66|\n",
      "|       6|         5|       31| 4/1/2020| 18402.0|\n",
      "|       7|         5|       31| 6/1/2019|  7524.2|\n",
      "|       8|         5|      186| 6/1/2019| 12036.6|\n",
      "|       9|         7|       91| 6/1/2020| 2804.75|\n",
      "|      10|         2|      202| 6/1/2020|  8852.0|\n",
      "|      11|         7|       58| 8/1/2019|16545.25|\n",
      "|      12|         7|       58| 9/1/2018|11411.88|\n",
      "|      13|         7|       58|10/1/2019| 15829.7|\n",
      "|      14|         3|      249|12/1/2020| 6154.36|\n",
      "|      15|         4|      249|12/1/2018| 3255.08|\n",
      "|      16|         7|      192|13/1/2020| 2901.25|\n",
      "|      17|         2|       79|13/1/2019| 15829.7|\n",
      "|      18|        10|       79|14/1/2019|16996.36|\n",
      "|      19|        10|      191|14/1/2019|   155.0|\n",
      "|      20|         9|      218|15/1/2018|  131.75|\n",
      "+--------+----------+---------+---------+--------+\n",
      "only showing top 20 rows\n",
      "\n"
     ]
    }
   ],
   "source": [
    "    # 3- Demonstre quanto cada Status de Clientes representa em vendas.\n",
    "    \n",
    "dfvalores = spark.read.format(\"parquet\").load(\"/home/anthony/pyspark/Arquivos adicionais/Atividades/Vendas.parquet\")\n",
    "dfvalores.show()"
   ]
  },
  {
   "cell_type": "code",
   "execution_count": 11,
   "id": "3d3dd19f",
   "metadata": {},
   "outputs": [
    {
     "name": "stdout",
     "output_type": "stream",
     "text": [
      "+---------+-------------------+-------+------+------+--------+----------+---------+--------+\n",
      "|ClienteID|               Nome|Estados|Genero|Status|VendasID|VendedorID|     Data|   Total|\n",
      "+---------+-------------------+-------+------+------+--------+----------+---------+--------+\n",
      "|       91|     Cosme Zambujal|     BA|     M|Silver|       1|         1| 1/1/2019|  8053.6|\n",
      "|      185|  Gertrudes Hidalgo|     PA|     F|Silver|       2|         6| 1/1/2020|   150.4|\n",
      "|       31|   Antão Corte-Real|     ES|     M|Silver|       3|         7| 2/1/2020|  6087.0|\n",
      "|       31|   Antão Corte-Real|     ES|     M|Silver|       4|         5| 2/1/2019| 13828.6|\n",
      "|       31|   Antão Corte-Real|     ES|     M|Silver|       5|         5| 3/1/2018|26096.66|\n",
      "|       31|   Antão Corte-Real|     ES|     M|Silver|       6|         5| 4/1/2020| 18402.0|\n",
      "|       31|   Antão Corte-Real|     ES|     M|Silver|       7|         5| 6/1/2019|  7524.2|\n",
      "|      186|  Gertrudes Infante|     RS|     F|Silver|       8|         5| 6/1/2019| 12036.6|\n",
      "|       91|     Cosme Zambujal|     BA|     M|Silver|       9|         7| 6/1/2020| 2804.75|\n",
      "|      202| Greice Lameirinhas|     PI|     F|Silver|      10|         2| 6/1/2020|  8852.0|\n",
      "|       58|     Brígida Gusmão|     DF|     F|Silver|      11|         7| 8/1/2019|16545.25|\n",
      "|       58|     Brígida Gusmão|     DF|     F|Silver|      12|         7| 9/1/2018|11411.88|\n",
      "|       58|     Brígida Gusmão|     DF|     F|Silver|      13|         7|10/1/2019| 15829.7|\n",
      "|      249|     Joaquim Mieiro|     TO|     M|Silver|      14|         3|12/1/2020| 6154.36|\n",
      "|      249|     Joaquim Mieiro|     TO|     M|Silver|      15|         4|12/1/2018| 3255.08|\n",
      "|      192|    Gisela Candeias|     SC|     F|Silver|      16|         7|13/1/2020| 2901.25|\n",
      "|       79|      Cidália Miera|     SE|     F|Silver|      17|         2|13/1/2019| 15829.7|\n",
      "|       79|      Cidália Miera|     SE|     F|Silver|      18|        10|14/1/2019|16996.36|\n",
      "|      191|       Gisela Bahia|     SP|     F|Silver|      19|        10|14/1/2019|   155.0|\n",
      "|      218|Hermígio Villaverde|     MA|     M|Silver|      20|         9|15/1/2018|  131.75|\n",
      "+---------+-------------------+-------+------+------+--------+----------+---------+--------+\n",
      "only showing top 20 rows\n",
      "\n"
     ]
    }
   ],
   "source": [
    "inner = (dfvendas.join(dfvalores, on=[\"ClienteID\"], how='inner'))\n",
    "inner.show()"
   ]
  },
  {
   "cell_type": "code",
   "execution_count": 39,
   "id": "8706e38d",
   "metadata": {},
   "outputs": [
    {
     "name": "stdout",
     "output_type": "stream",
     "text": [
      "+--------+------------------+\n",
      "|  Status|        sum(Total)|\n",
      "+--------+------------------+\n",
      "|  Silver|        3014291.36|\n",
      "|    Gold|27286.690000000002|\n",
      "|Platinum|          12584.68|\n",
      "+--------+------------------+\n",
      "\n"
     ]
    }
   ],
   "source": [
    "Atv3 = inner.groupBy(\"Status\").agg(sum(\"Total\")).orderBy(Func.col(\"sum(Total)\").desc())\n",
    "Atv3.show()"
   ]
  },
  {
   "cell_type": "code",
   "execution_count": null,
   "id": "21ea4f12",
   "metadata": {},
   "outputs": [],
   "source": []
  },
  {
   "cell_type": "code",
   "execution_count": 32,
   "id": "1c258b0a",
   "metadata": {},
   "outputs": [
    {
     "name": "stdout",
     "output_type": "stream",
     "text": [
      "+---------+--------------------+------+------+------+\n",
      "|ClienteID|             Cliente|Estado|Genero|Status|\n",
      "+---------+--------------------+------+------+------+\n",
      "|        1|Adelina Buenaventura|    RJ|     M|Silver|\n",
      "|        2|        Adelino Gago|    RJ|     M|Silver|\n",
      "+---------+--------------------+------+------+------+\n",
      "only showing top 2 rows\n",
      "\n"
     ]
    }
   ],
   "source": [
    "    ## Repostas do professor\n",
    "            # 1- Crie uma consulta que mostre, nesta ordem:\n",
    "                # Nome, Estados e Status\n",
    "clientes = spark.read.load(\"/home/anthony/pyspark/Arquivos adicionais/Atividades/Clientes.parquet\")\n",
    "clientes.show(2)"
   ]
  },
  {
   "cell_type": "code",
   "execution_count": 33,
   "id": "4b297ac6",
   "metadata": {},
   "outputs": [
    {
     "name": "stdout",
     "output_type": "stream",
     "text": [
      "+--------+----------+---------+--------+------+\n",
      "|VendasID|VendedorID|ClienteID|    Data| Total|\n",
      "+--------+----------+---------+--------+------+\n",
      "|       1|         1|       91|1/1/2019|8053.6|\n",
      "|       2|         6|      185|1/1/2020| 150.4|\n",
      "+--------+----------+---------+--------+------+\n",
      "only showing top 2 rows\n",
      "\n"
     ]
    }
   ],
   "source": [
    "vendas = spark.read.load(\"/home/anthony/pyspark/Arquivos adicionais/Atividades/Vendas.parquet\")\n",
    "vendas.show(2)"
   ]
  },
  {
   "cell_type": "code",
   "execution_count": 36,
   "id": "bc8edff5",
   "metadata": {},
   "outputs": [
    {
     "name": "stdout",
     "output_type": "stream",
     "text": [
      "+--------------------+------+--------+\n",
      "|             Cliente|Estado|  Status|\n",
      "+--------------------+------+--------+\n",
      "|Adelina Buenaventura|    RJ|  Silver|\n",
      "|        Adelino Gago|    RJ|  Silver|\n",
      "|     Adolfo Patrício|    PE|  Silver|\n",
      "|    Adriana Guedelha|    RO|Platinum|\n",
      "|       Adélio Lisboa|    SE|  Silver|\n",
      "|       Adérito Bahía|    MA|  Silver|\n",
      "|       Aida Dorneles|    RN|  Silver|\n",
      "|   Alarico Quinterno|    AC|  Silver|\n",
      "|    Alberto Cezimbra|    AM|  Silver|\n",
      "|    Alberto Monsanto|    RN|    Gold|\n",
      "|       Albino Canela|    AC|  Silver|\n",
      "|     Alceste Varanda|    RR|  Silver|\n",
      "|  Alcides Carvalhais|    RO|  Silver|\n",
      "|        Aldo Martins|    GO|  Silver|\n",
      "|   Alexandra Tabares|    MG|  Silver|\n",
      "|      Alfredo Cotrim|    SC|  Silver|\n",
      "|     Almeno Figueira|    SC|  Silver|\n",
      "|      Alvito Peralta|    AM|  Silver|\n",
      "|     Amadeu Martinho|    RN|  Silver|\n",
      "|      Amélia Estévez|    PE|  Silver|\n",
      "+--------------------+------+--------+\n",
      "only showing top 20 rows\n",
      "\n"
     ]
    }
   ],
   "source": [
    "Atividade1 = clientes.select(\"Cliente\", \"Estado\", \"Status\")\n",
    "Atividade1.show()"
   ]
  },
  {
   "cell_type": "code",
   "execution_count": 42,
   "id": "6608a615",
   "metadata": {},
   "outputs": [
    {
     "name": "stdout",
     "output_type": "stream",
     "text": [
      "+---------+-------------------+------+------+--------+\n",
      "|ClienteID|            Cliente|Estado|Genero|  Status|\n",
      "+---------+-------------------+------+------+--------+\n",
      "|        4|   Adriana Guedelha|    RO|     F|Platinum|\n",
      "|       10|   Alberto Monsanto|    RN|     M|    Gold|\n",
      "|       28|      Anna Carvajal|    RS|     F|    Gold|\n",
      "|       49|      Bento Quintão|    SP|     M|    Gold|\n",
      "|       68|      Carminda Dias|    AM|     F|    Gold|\n",
      "|       83|      Cláudio Jorge|    TO|     M|    Gold|\n",
      "|      121|    Dionísio Saltão|    PR|     M|    Gold|\n",
      "|      166|   Firmino Meireles|    AM|     M|    Gold|\n",
      "|      170|      Flor Vilanova|    CE|     M|Platinum|\n",
      "|      220|Honorina Villaverde|    PE|     F|    Gold|\n",
      "|      230|    Ibijara Botelho|    RR|     F|Platinum|\n",
      "|      237|  Iracema Rodríguez|    BA|     F|    Gold|\n",
      "|      247|         Joana Ataí|    GO|     F|Platinum|\n",
      "+---------+-------------------+------+------+--------+\n",
      "\n"
     ]
    }
   ],
   "source": [
    "from pyspark.sql import functions as Func\n",
    "Atividade2 = clientes.select(\"*\").where((Func.col(\"Status\")==\"Gold\") | (Func.col(\"Status\")==\"Platinum\"))\n",
    "Atividade2.show()"
   ]
  },
  {
   "cell_type": "code",
   "execution_count": 46,
   "id": "4c8e010a",
   "metadata": {},
   "outputs": [
    {
     "name": "stdout",
     "output_type": "stream",
     "text": [
      "+--------+------------------+\n",
      "|  Status|        sum(Total)|\n",
      "+--------+------------------+\n",
      "|  Silver|        3014291.36|\n",
      "|    Gold|27286.690000000002|\n",
      "|Platinum|          12584.68|\n",
      "+--------+------------------+\n",
      "\n"
     ]
    }
   ],
   "source": [
    "Atividade3 = vendas.join(clientes, vendas.ClienteID == clientes.ClienteID).groupBy(clientes.Status).agg(sum(\"Total\")).orderBy(Func.col(\"sum(Total)\").desc())\n",
    "Atividade3.show()"
   ]
  },
  {
   "cell_type": "code",
   "execution_count": 47,
   "id": "70baf8e0",
   "metadata": {},
   "outputs": [
    {
     "name": "stdout",
     "output_type": "stream",
     "text": [
      "+--------------------+-------+--------+\n",
      "|                Nome|Estados|  Status|\n",
      "+--------------------+-------+--------+\n",
      "|Adelina Buenaventura|     RJ|  Silver|\n",
      "|        Adelino Gago|     RJ|  Silver|\n",
      "|     Adolfo Patrício|     PE|  Silver|\n",
      "|    Adriana Guedelha|     RO|Platinum|\n",
      "|       Adélio Lisboa|     SE|  Silver|\n",
      "|       Adérito Bahía|     MA|  Silver|\n",
      "|       Aida Dorneles|     RN|  Silver|\n",
      "|   Alarico Quinterno|     AC|  Silver|\n",
      "|    Alberto Cezimbra|     AM|  Silver|\n",
      "|    Alberto Monsanto|     RN|    Gold|\n",
      "|       Albino Canela|     AC|  Silver|\n",
      "|     Alceste Varanda|     RR|  Silver|\n",
      "|  Alcides Carvalhais|     RO|  Silver|\n",
      "|        Aldo Martins|     GO|  Silver|\n",
      "|   Alexandra Tabares|     MG|  Silver|\n",
      "|      Alfredo Cotrim|     SC|  Silver|\n",
      "|     Almeno Figueira|     SC|  Silver|\n",
      "|      Alvito Peralta|     AM|  Silver|\n",
      "|     Amadeu Martinho|     RN|  Silver|\n",
      "|      Amélia Estévez|     PE|  Silver|\n",
      "+--------------------+-------+--------+\n",
      "only showing top 20 rows\n",
      "\n"
     ]
    }
   ],
   "source": [
    "Atv1.show()"
   ]
  },
  {
   "cell_type": "code",
   "execution_count": 48,
   "id": "280dce3f",
   "metadata": {},
   "outputs": [
    {
     "name": "stdout",
     "output_type": "stream",
     "text": [
      "+--------------------+------+--------+\n",
      "|             Cliente|Estado|  Status|\n",
      "+--------------------+------+--------+\n",
      "|Adelina Buenaventura|    RJ|  Silver|\n",
      "|        Adelino Gago|    RJ|  Silver|\n",
      "|     Adolfo Patrício|    PE|  Silver|\n",
      "|    Adriana Guedelha|    RO|Platinum|\n",
      "|       Adélio Lisboa|    SE|  Silver|\n",
      "|       Adérito Bahía|    MA|  Silver|\n",
      "|       Aida Dorneles|    RN|  Silver|\n",
      "|   Alarico Quinterno|    AC|  Silver|\n",
      "|    Alberto Cezimbra|    AM|  Silver|\n",
      "|    Alberto Monsanto|    RN|    Gold|\n",
      "|       Albino Canela|    AC|  Silver|\n",
      "|     Alceste Varanda|    RR|  Silver|\n",
      "|  Alcides Carvalhais|    RO|  Silver|\n",
      "|        Aldo Martins|    GO|  Silver|\n",
      "|   Alexandra Tabares|    MG|  Silver|\n",
      "|      Alfredo Cotrim|    SC|  Silver|\n",
      "|     Almeno Figueira|    SC|  Silver|\n",
      "|      Alvito Peralta|    AM|  Silver|\n",
      "|     Amadeu Martinho|    RN|  Silver|\n",
      "|      Amélia Estévez|    PE|  Silver|\n",
      "+--------------------+------+--------+\n",
      "only showing top 20 rows\n",
      "\n"
     ]
    }
   ],
   "source": [
    "Atividade1.show()"
   ]
  },
  {
   "cell_type": "code",
   "execution_count": 53,
   "id": "f1dc6651",
   "metadata": {},
   "outputs": [
    {
     "name": "stdout",
     "output_type": "stream",
     "text": [
      "+---------+-------------------+-------+------+--------+\n",
      "|ClienteID|               Nome|Estados|Genero|  Status|\n",
      "+---------+-------------------+-------+------+--------+\n",
      "|        4|   Adriana Guedelha|     RO|     F|Platinum|\n",
      "|       10|   Alberto Monsanto|     RN|     M|    Gold|\n",
      "|       28|      Anna Carvajal|     RS|     F|    Gold|\n",
      "|       49|      Bento Quintão|     SP|     M|    Gold|\n",
      "|       68|      Carminda Dias|     AM|     F|    Gold|\n",
      "|       83|      Cláudio Jorge|     TO|     M|    Gold|\n",
      "|      121|    Dionísio Saltão|     PR|     M|    Gold|\n",
      "|      166|   Firmino Meireles|     AM|     M|    Gold|\n",
      "|      170|      Flor Vilanova|     CE|     M|Platinum|\n",
      "|      220|Honorina Villaverde|     PE|     F|    Gold|\n",
      "|      230|    Ibijara Botelho|     RR|     F|Platinum|\n",
      "|      237|  Iracema Rodríguez|     BA|     F|    Gold|\n",
      "|      247|         Joana Ataí|     GO|     F|Platinum|\n",
      "+---------+-------------------+-------+------+--------+\n",
      "\n"
     ]
    }
   ],
   "source": [
    "Atv2.show()"
   ]
  },
  {
   "cell_type": "code",
   "execution_count": 50,
   "id": "4b087dfe",
   "metadata": {},
   "outputs": [
    {
     "name": "stdout",
     "output_type": "stream",
     "text": [
      "+---------+-------------------+------+------+--------+\n",
      "|ClienteID|            Cliente|Estado|Genero|  Status|\n",
      "+---------+-------------------+------+------+--------+\n",
      "|        4|   Adriana Guedelha|    RO|     F|Platinum|\n",
      "|       10|   Alberto Monsanto|    RN|     M|    Gold|\n",
      "|       28|      Anna Carvajal|    RS|     F|    Gold|\n",
      "|       49|      Bento Quintão|    SP|     M|    Gold|\n",
      "|       68|      Carminda Dias|    AM|     F|    Gold|\n",
      "|       83|      Cláudio Jorge|    TO|     M|    Gold|\n",
      "|      121|    Dionísio Saltão|    PR|     M|    Gold|\n",
      "|      166|   Firmino Meireles|    AM|     M|    Gold|\n",
      "|      170|      Flor Vilanova|    CE|     M|Platinum|\n",
      "|      220|Honorina Villaverde|    PE|     F|    Gold|\n",
      "|      230|    Ibijara Botelho|    RR|     F|Platinum|\n",
      "|      237|  Iracema Rodríguez|    BA|     F|    Gold|\n",
      "|      247|         Joana Ataí|    GO|     F|Platinum|\n",
      "+---------+-------------------+------+------+--------+\n",
      "\n"
     ]
    }
   ],
   "source": [
    "Atividade2.show()"
   ]
  },
  {
   "cell_type": "code",
   "execution_count": 54,
   "id": "c9a27744",
   "metadata": {},
   "outputs": [
    {
     "name": "stdout",
     "output_type": "stream",
     "text": [
      "+--------+------------------+\n",
      "|  Status|        sum(Total)|\n",
      "+--------+------------------+\n",
      "|  Silver|        3014291.36|\n",
      "|    Gold|27286.690000000002|\n",
      "|Platinum|          12584.68|\n",
      "+--------+------------------+\n",
      "\n"
     ]
    }
   ],
   "source": [
    "Atv3.show()"
   ]
  },
  {
   "cell_type": "code",
   "execution_count": 55,
   "id": "358ffc43",
   "metadata": {},
   "outputs": [
    {
     "name": "stdout",
     "output_type": "stream",
     "text": [
      "+--------+------------------+\n",
      "|  Status|        sum(Total)|\n",
      "+--------+------------------+\n",
      "|  Silver|        3014291.36|\n",
      "|    Gold|27286.690000000002|\n",
      "|Platinum|          12584.68|\n",
      "+--------+------------------+\n",
      "\n"
     ]
    }
   ],
   "source": [
    "Atividade3.show()"
   ]
  },
  {
   "cell_type": "code",
   "execution_count": null,
   "id": "35679d08",
   "metadata": {},
   "outputs": [],
   "source": []
  }
 ],
 "metadata": {
  "kernelspec": {
   "display_name": "Python 3 (ipykernel)",
   "language": "python",
   "name": "python3"
  },
  "language_info": {
   "codemirror_mode": {
    "name": "ipython",
    "version": 3
   },
   "file_extension": ".py",
   "mimetype": "text/x-python",
   "name": "python",
   "nbconvert_exporter": "python",
   "pygments_lexer": "ipython3",
   "version": "3.10.12"
  }
 },
 "nbformat": 4,
 "nbformat_minor": 5
}
