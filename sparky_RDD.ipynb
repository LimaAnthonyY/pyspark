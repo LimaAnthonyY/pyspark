{
 "cells": [
  {
   "cell_type": "code",
   "execution_count": 6,
   "id": "e0b5b228",
   "metadata": {},
   "outputs": [],
   "source": [
    " numeros = sc.parallelize([1,2,3,4,5,6,7,8,9,10])\n",
    "    # Distribute a local Python collection to form an RDD.\n",
    "    # Using range is recommended if the input represents a range for perfomance."
   ]
  },
  {
   "cell_type": "code",
   "execution_count": 7,
   "id": "d6674d81",
   "metadata": {},
   "outputs": [
    {
     "data": {
      "text/plain": [
       "[1, 2, 3, 4, 5]"
      ]
     },
     "execution_count": 7,
     "metadata": {},
     "output_type": "execute_result"
    }
   ],
   "source": [
    "numeros.take(5)\n",
    "    # It works by first scanning one partition, and use the results from that partition to \n",
    "    # estimate the number of additional partitions needed to satisgy the limit"
   ]
  },
  {
   "cell_type": "code",
   "execution_count": 8,
   "id": "879c21e1",
   "metadata": {},
   "outputs": [
    {
     "data": {
      "text/plain": [
       "[10, 9, 8, 7, 6]"
      ]
     },
     "execution_count": 8,
     "metadata": {},
     "output_type": "execute_result"
    }
   ],
   "source": [
    "numeros.top(5)\n",
    "    # Get the top N elements from an RDD"
   ]
  },
  {
   "cell_type": "code",
   "execution_count": 9,
   "id": "30a4963e",
   "metadata": {},
   "outputs": [
    {
     "data": {
      "text/plain": [
       "[1, 2, 3, 4, 5, 6, 7, 8, 9, 10]"
      ]
     },
     "execution_count": 9,
     "metadata": {},
     "output_type": "execute_result"
    }
   ],
   "source": [
    "numeros.collect()\n",
    "    # Returns all the records as a list of row"
   ]
  },
  {
   "cell_type": "code",
   "execution_count": 11,
   "id": "eedda8d2",
   "metadata": {},
   "outputs": [
    {
     "name": "stderr",
     "output_type": "stream",
     "text": [
      "                                                                                \r"
     ]
    },
    {
     "data": {
      "text/plain": [
       "10"
      ]
     },
     "execution_count": 11,
     "metadata": {},
     "output_type": "execute_result"
    }
   ],
   "source": [
    "numeros.count()\n",
    "    # count a list"
   ]
  },
  {
   "cell_type": "code",
   "execution_count": 12,
   "id": "ede8e13e",
   "metadata": {},
   "outputs": [
    {
     "name": "stderr",
     "output_type": "stream",
     "text": [
      "                                                                                \r"
     ]
    },
    {
     "data": {
      "text/plain": [
       "5.5"
      ]
     },
     "execution_count": 12,
     "metadata": {},
     "output_type": "execute_result"
    }
   ],
   "source": [
    "numeros.mean()\n",
    "    # Return median"
   ]
  },
  {
   "cell_type": "code",
   "execution_count": 13,
   "id": "159bcb8d",
   "metadata": {},
   "outputs": [
    {
     "data": {
      "text/plain": [
       "55"
      ]
     },
     "execution_count": 13,
     "metadata": {},
     "output_type": "execute_result"
    }
   ],
   "source": [
    "numeros.sum()\n",
    "    # Return sum of all numbers"
   ]
  },
  {
   "cell_type": "code",
   "execution_count": 14,
   "id": "cedb830e",
   "metadata": {},
   "outputs": [
    {
     "data": {
      "text/plain": [
       "1"
      ]
     },
     "execution_count": 14,
     "metadata": {},
     "output_type": "execute_result"
    }
   ],
   "source": [
    "numeros.min()\n",
    "    # Return minimal number of a list"
   ]
  },
  {
   "cell_type": "code",
   "execution_count": 15,
   "id": "ce8fa4fd",
   "metadata": {},
   "outputs": [
    {
     "data": {
      "text/plain": [
       "2.8722813232690143"
      ]
     },
     "execution_count": 15,
     "metadata": {},
     "output_type": "execute_result"
    }
   ],
   "source": [
    "numeros.stdev()\n",
    "    # return standard deviation of a list"
   ]
  },
  {
   "cell_type": "code",
   "execution_count": 20,
   "id": "134db8f7",
   "metadata": {},
   "outputs": [],
   "source": [
    "filtro =  numeros.filter(lambda filtro: filtro > 2 )\n",
    "    # create condition"
   ]
  },
  {
   "cell_type": "code",
   "execution_count": 21,
   "id": "a93e2543",
   "metadata": {},
   "outputs": [
    {
     "name": "stderr",
     "output_type": "stream",
     "text": [
      "                                                                                \r"
     ]
    },
    {
     "data": {
      "text/plain": [
       "[3, 4, 5, 6, 7, 8, 9, 10]"
      ]
     },
     "execution_count": 21,
     "metadata": {},
     "output_type": "execute_result"
    }
   ],
   "source": [
    "filtro.collect()\n",
    "    # return the value if attend the condition "
   ]
  },
  {
   "cell_type": "code",
   "execution_count": 24,
   "id": "008c0c58",
   "metadata": {},
   "outputs": [],
   "source": [
    "amostra = numeros.sample(True,0.5,1)\n",
    "    # return a sampled subset of this dataframe\n",
    "    # sample(bool,float,int)\n",
    "    # sample(sample with replacement or not(default not), fraction of rows, seed for sampling)"
   ]
  },
  {
   "cell_type": "code",
   "execution_count": 25,
   "id": "05964280",
   "metadata": {},
   "outputs": [
    {
     "name": "stderr",
     "output_type": "stream",
     "text": [
      "                                                                                \r"
     ]
    },
    {
     "data": {
      "text/plain": [
       "[2, 3, 4, 5, 8, 10, 10, 10, 10]"
      ]
     },
     "execution_count": 25,
     "metadata": {},
     "output_type": "execute_result"
    }
   ],
   "source": [
    "amostra.collect()\n",
    "    # return the value of condition"
   ]
  },
  {
   "cell_type": "code",
   "execution_count": 26,
   "id": "9459dafb",
   "metadata": {},
   "outputs": [],
   "source": [
    "mapa = numeros.map(lambda mapa: mapa *2)\n",
    "    # return a new RDD by applying a function to each element of this RDD"
   ]
  },
  {
   "cell_type": "code",
   "execution_count": 27,
   "id": "f804fa04",
   "metadata": {},
   "outputs": [
    {
     "name": "stderr",
     "output_type": "stream",
     "text": [
      "                                                                                \r"
     ]
    },
    {
     "data": {
      "text/plain": [
       "[2, 4, 6, 8, 10, 12, 14, 16, 18, 20]"
      ]
     },
     "execution_count": 27,
     "metadata": {},
     "output_type": "execute_result"
    }
   ],
   "source": [
    "mapa.collect()"
   ]
  },
  {
   "cell_type": "code",
   "execution_count": 28,
   "id": "e808c213",
   "metadata": {},
   "outputs": [
    {
     "data": {
      "text/plain": [
       "[1, 2, 3, 4, 5, 6, 7, 8, 9, 10]"
      ]
     },
     "execution_count": 28,
     "metadata": {},
     "output_type": "execute_result"
    }
   ],
   "source": [
    "numeros.collect()"
   ]
  },
  {
   "cell_type": "code",
   "execution_count": 29,
   "id": "2ca8502e",
   "metadata": {},
   "outputs": [],
   "source": [
    "numeros2 = sc.parallelize([6,7,8,9,10])"
   ]
  },
  {
   "cell_type": "code",
   "execution_count": 30,
   "id": "6cb75e62",
   "metadata": {},
   "outputs": [],
   "source": [
    "uniao = numeros.union(numeros2)\n",
    "    # union of numeros and numeros2"
   ]
  },
  {
   "cell_type": "code",
   "execution_count": 31,
   "id": "68ae6766",
   "metadata": {},
   "outputs": [
    {
     "name": "stderr",
     "output_type": "stream",
     "text": [
      "                                                                                \r"
     ]
    },
    {
     "data": {
      "text/plain": [
       "[1, 2, 3, 4, 5, 6, 7, 8, 9, 10, 6, 7, 8, 9, 10]"
      ]
     },
     "execution_count": 31,
     "metadata": {},
     "output_type": "execute_result"
    }
   ],
   "source": [
    "uniao.collect()"
   ]
  },
  {
   "cell_type": "code",
   "execution_count": 32,
   "id": "12437f3a",
   "metadata": {},
   "outputs": [],
   "source": [
    "interseccao = numeros.intersection(numeros2)\n",
    "    # intersection of numeros and numeros2"
   ]
  },
  {
   "cell_type": "code",
   "execution_count": 33,
   "id": "d92ff1e9",
   "metadata": {},
   "outputs": [
    {
     "name": "stderr",
     "output_type": "stream",
     "text": [
      "                                                                                \r"
     ]
    },
    {
     "data": {
      "text/plain": [
       "[8, 9, 6, 10, 7]"
      ]
     },
     "execution_count": 33,
     "metadata": {},
     "output_type": "execute_result"
    }
   ],
   "source": [
    "interseccao.collect()"
   ]
  },
  {
   "cell_type": "code",
   "execution_count": 34,
   "id": "5e8e1bce",
   "metadata": {},
   "outputs": [],
   "source": [
    "subtrai = numeros.subtract(numeros2)\n",
    "    # realize subtract of numeros and numeros2"
   ]
  },
  {
   "cell_type": "code",
   "execution_count": 35,
   "id": "bd5fcce8",
   "metadata": {},
   "outputs": [
    {
     "name": "stderr",
     "output_type": "stream",
     "text": [
      "                                                                                \r"
     ]
    },
    {
     "data": {
      "text/plain": [
       "[4, 1, 5, 2, 3]"
      ]
     },
     "execution_count": 35,
     "metadata": {},
     "output_type": "execute_result"
    }
   ],
   "source": [
    "subtrai.collect()"
   ]
  },
  {
   "cell_type": "code",
   "execution_count": 36,
   "id": "660f5407",
   "metadata": {},
   "outputs": [],
   "source": [
    "cartesiano = numeros.cartesian(numeros2)\n",
    "    # realize product cartesian of all number"
   ]
  },
  {
   "cell_type": "code",
   "execution_count": 37,
   "id": "f72dca24",
   "metadata": {},
   "outputs": [
    {
     "data": {
      "text/plain": [
       "[(1, 6),\n",
       " (1, 7),\n",
       " (2, 6),\n",
       " (2, 7),\n",
       " (3, 6),\n",
       " (3, 7),\n",
       " (4, 6),\n",
       " (4, 7),\n",
       " (5, 6),\n",
       " (5, 7),\n",
       " (1, 8),\n",
       " (1, 9),\n",
       " (2, 8),\n",
       " (2, 9),\n",
       " (3, 8),\n",
       " (3, 9),\n",
       " (4, 8),\n",
       " (4, 9),\n",
       " (5, 8),\n",
       " (5, 9),\n",
       " (1, 10),\n",
       " (2, 10),\n",
       " (3, 10),\n",
       " (4, 10),\n",
       " (5, 10),\n",
       " (6, 6),\n",
       " (6, 7),\n",
       " (7, 6),\n",
       " (7, 7),\n",
       " (8, 6),\n",
       " (8, 7),\n",
       " (9, 6),\n",
       " (9, 7),\n",
       " (10, 6),\n",
       " (10, 7),\n",
       " (6, 8),\n",
       " (6, 9),\n",
       " (7, 8),\n",
       " (7, 9),\n",
       " (8, 8),\n",
       " (8, 9),\n",
       " (9, 8),\n",
       " (9, 9),\n",
       " (10, 8),\n",
       " (10, 9),\n",
       " (6, 10),\n",
       " (7, 10),\n",
       " (8, 10),\n",
       " (9, 10),\n",
       " (10, 10)]"
      ]
     },
     "execution_count": 37,
     "metadata": {},
     "output_type": "execute_result"
    }
   ],
   "source": [
    "cartesiano.collect()"
   ]
  },
  {
   "cell_type": "code",
   "execution_count": 39,
   "id": "bc8d6e37",
   "metadata": {},
   "outputs": [
    {
     "name": "stderr",
     "output_type": "stream",
     "text": [
      "                                                                                \r"
     ]
    },
    {
     "data": {
      "text/plain": [
       "defaultdict(int,\n",
       "            {(1, 6): 1,\n",
       "             (1, 7): 1,\n",
       "             (2, 6): 1,\n",
       "             (2, 7): 1,\n",
       "             (3, 6): 1,\n",
       "             (3, 7): 1,\n",
       "             (4, 6): 1,\n",
       "             (4, 7): 1,\n",
       "             (5, 6): 1,\n",
       "             (5, 7): 1,\n",
       "             (1, 8): 1,\n",
       "             (1, 9): 1,\n",
       "             (2, 8): 1,\n",
       "             (2, 9): 1,\n",
       "             (3, 8): 1,\n",
       "             (3, 9): 1,\n",
       "             (4, 8): 1,\n",
       "             (4, 9): 1,\n",
       "             (5, 8): 1,\n",
       "             (5, 9): 1,\n",
       "             (1, 10): 1,\n",
       "             (2, 10): 1,\n",
       "             (3, 10): 1,\n",
       "             (4, 10): 1,\n",
       "             (5, 10): 1,\n",
       "             (6, 6): 1,\n",
       "             (6, 7): 1,\n",
       "             (7, 6): 1,\n",
       "             (7, 7): 1,\n",
       "             (8, 6): 1,\n",
       "             (8, 7): 1,\n",
       "             (9, 6): 1,\n",
       "             (9, 7): 1,\n",
       "             (10, 6): 1,\n",
       "             (10, 7): 1,\n",
       "             (6, 8): 1,\n",
       "             (6, 9): 1,\n",
       "             (7, 8): 1,\n",
       "             (7, 9): 1,\n",
       "             (8, 8): 1,\n",
       "             (8, 9): 1,\n",
       "             (9, 8): 1,\n",
       "             (9, 9): 1,\n",
       "             (10, 8): 1,\n",
       "             (10, 9): 1,\n",
       "             (6, 10): 1,\n",
       "             (7, 10): 1,\n",
       "             (8, 10): 1,\n",
       "             (9, 10): 1,\n",
       "             (10, 10): 1})"
      ]
     },
     "execution_count": 39,
     "metadata": {},
     "output_type": "execute_result"
    }
   ],
   "source": [
    "cartesiano.countByValue()\n",
    "    # counting cartesian by number of times it appears"
   ]
  },
  {
   "cell_type": "code",
   "execution_count": 41,
   "id": "219731a4",
   "metadata": {},
   "outputs": [],
   "source": [
    "compras = sc.parallelize([(1,200),(2,300),(3,120),(4,250),(5,78)])\n",
    "    # Creating information of clients with key and values"
   ]
  },
  {
   "cell_type": "code",
   "execution_count": 42,
   "id": "77326919",
   "metadata": {},
   "outputs": [],
   "source": [
    "chaves = compras.keys()\n",
    "    # Creating keys of compras\n",
    "valores = compras.values()\n",
    "    # Creating values of compras"
   ]
  },
  {
   "cell_type": "code",
   "execution_count": 43,
   "id": "c14c35c5",
   "metadata": {},
   "outputs": [
    {
     "name": "stderr",
     "output_type": "stream",
     "text": [
      "                                                                                \r"
     ]
    },
    {
     "data": {
      "text/plain": [
       "[1, 2, 3, 4, 5]"
      ]
     },
     "execution_count": 43,
     "metadata": {},
     "output_type": "execute_result"
    }
   ],
   "source": [
    "chaves.collect()"
   ]
  },
  {
   "cell_type": "code",
   "execution_count": 44,
   "id": "6b7b0c72",
   "metadata": {},
   "outputs": [
    {
     "data": {
      "text/plain": [
       "[200, 300, 120, 250, 78]"
      ]
     },
     "execution_count": 44,
     "metadata": {},
     "output_type": "execute_result"
    }
   ],
   "source": [
    "valores.collect()"
   ]
  },
  {
   "cell_type": "code",
   "execution_count": 46,
   "id": "fb6cf1f9",
   "metadata": {},
   "outputs": [
    {
     "name": "stderr",
     "output_type": "stream",
     "text": [
      "                                                                                \r"
     ]
    },
    {
     "data": {
      "text/plain": [
       "defaultdict(int, {1: 1, 2: 1, 3: 1, 4: 1, 5: 1})"
      ]
     },
     "execution_count": 46,
     "metadata": {},
     "output_type": "execute_result"
    }
   ],
   "source": [
    "compras.countByKey()\n",
    "    # counting elements by Keys"
   ]
  },
  {
   "cell_type": "code",
   "execution_count": 47,
   "id": "4f226356",
   "metadata": {},
   "outputs": [],
   "source": [
    "soma = compras.mapValues(lambda soma: soma+1)\n",
    "    # Applying function value without change of key"
   ]
  },
  {
   "cell_type": "code",
   "execution_count": 48,
   "id": "d7d76071",
   "metadata": {},
   "outputs": [
    {
     "name": "stderr",
     "output_type": "stream",
     "text": [
      "                                                                                \r"
     ]
    },
    {
     "data": {
      "text/plain": [
       "[(1, 201), (2, 301), (3, 121), (4, 251), (5, 79)]"
      ]
     },
     "execution_count": 48,
     "metadata": {},
     "output_type": "execute_result"
    }
   ],
   "source": [
    "soma.collect()"
   ]
  },
  {
   "cell_type": "code",
   "execution_count": 50,
   "id": "88706d09",
   "metadata": {},
   "outputs": [
    {
     "data": {
      "text/plain": [
       "[(1, 200), (2, 300), (3, 120), (4, 250), (5, 78)]"
      ]
     },
     "execution_count": 50,
     "metadata": {},
     "output_type": "execute_result"
    }
   ],
   "source": [
    "    # Other example\n",
    "compras.collect()"
   ]
  },
  {
   "cell_type": "code",
   "execution_count": 51,
   "id": "0f5e5186",
   "metadata": {},
   "outputs": [],
   "source": [
    "debitos = sc.parallelize([(1,20),(2,300)])"
   ]
  },
  {
   "cell_type": "code",
   "execution_count": 55,
   "id": "e13f895d",
   "metadata": {},
   "outputs": [
    {
     "name": "stderr",
     "output_type": "stream",
     "text": [
      "                                                                                \r"
     ]
    },
    {
     "data": {
      "text/plain": [
       "[(1, (200, 20)), (2, (300, 300))]"
      ]
     },
     "execution_count": 55,
     "metadata": {},
     "output_type": "execute_result"
    }
   ],
   "source": [
    "    # Showing only clients with debits\n",
    "resultado = compras.join(debitos)\n",
    "resultado.collect()"
   ]
  },
  {
   "cell_type": "code",
   "execution_count": 56,
   "id": "c992ddd9",
   "metadata": {},
   "outputs": [
    {
     "name": "stderr",
     "output_type": "stream",
     "text": [
      "                                                                                \r"
     ]
    },
    {
     "data": {
      "text/plain": [
       "[(4, 250), (5, 78), (3, 120)]"
      ]
     },
     "execution_count": 56,
     "metadata": {},
     "output_type": "execute_result"
    }
   ],
   "source": [
    "    # Showing only clients without debits\n",
    "semdebito = compras.subtractByKey(debitos)\n",
    "semdebito.collect()"
   ]
  },
  {
   "cell_type": "code",
   "execution_count": null,
   "id": "1d730057",
   "metadata": {},
   "outputs": [],
   "source": []
  }
 ],
 "metadata": {
  "kernelspec": {
   "display_name": "Python 3 (ipykernel)",
   "language": "python",
   "name": "python3"
  },
  "language_info": {
   "codemirror_mode": {
    "name": "ipython",
    "version": 3
   },
   "file_extension": ".py",
   "mimetype": "text/x-python",
   "name": "python",
   "nbconvert_exporter": "python",
   "pygments_lexer": "ipython3",
   "version": "3.10.12"
  }
 },
 "nbformat": 4,
 "nbformat_minor": 5
}
