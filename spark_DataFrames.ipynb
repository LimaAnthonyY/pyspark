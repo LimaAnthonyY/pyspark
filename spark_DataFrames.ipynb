{
 "cells": [
  {
   "cell_type": "code",
   "execution_count": 1,
   "id": "5fdfb065",
   "metadata": {},
   "outputs": [],
   "source": [
    "from pyspark.sql import SparkSession"
   ]
  },
  {
   "cell_type": "code",
   "execution_count": 3,
   "id": "4cf63c22",
   "metadata": {},
   "outputs": [
    {
     "name": "stderr",
     "output_type": "stream",
     "text": [
      "                                                                                \r"
     ]
    },
    {
     "name": "stdout",
     "output_type": "stream",
     "text": [
      "+-----+---+\n",
      "|   _1| _2|\n",
      "+-----+---+\n",
      "|Pedro| 10|\n",
      "|Maria| 20|\n",
      "| Jose| 40|\n",
      "+-----+---+\n",
      "\n"
     ]
    }
   ],
   "source": [
    "    # Criando o primeiro dataframe\n",
    "df1 = spark.createDataFrame([(\"Pedro\", 10),(\"Maria\", 20),(\"Jose\", 40)])\n",
    "    # cada par de valor um nome e uma idade\n",
    "df1.show()"
   ]
  },
  {
   "cell_type": "code",
   "execution_count": 4,
   "id": "5e5c9e04",
   "metadata": {},
   "outputs": [],
   "source": [
    "schema=\"ID int, Nome STRING\"\n",
    "    # Definindo os esquemas"
   ]
  },
  {
   "cell_type": "code",
   "execution_count": 5,
   "id": "6e847ff3",
   "metadata": {},
   "outputs": [],
   "source": [
    "dados = [[1,\"Pedro\"],[2,\"Maria\"]]\n",
    "    # Colocando os dados do dataframe"
   ]
  },
  {
   "cell_type": "code",
   "execution_count": 7,
   "id": "870c79af",
   "metadata": {},
   "outputs": [
    {
     "name": "stderr",
     "output_type": "stream",
     "text": [
      "                                                                                \r"
     ]
    },
    {
     "name": "stdout",
     "output_type": "stream",
     "text": [
      "+---+-----+\n",
      "| ID| Nome|\n",
      "+---+-----+\n",
      "|  1|Pedro|\n",
      "|  2|Maria|\n",
      "+---+-----+\n",
      "\n"
     ]
    }
   ],
   "source": [
    "df2 = spark.createDataFrame(dados, schema)\n",
    "df2.show()\n",
    "    # Agora a coluna tem nome não numero aleatorio."
   ]
  },
  {
   "cell_type": "code",
   "execution_count": 8,
   "id": "8d9ad694",
   "metadata": {},
   "outputs": [
    {
     "name": "stderr",
     "output_type": "stream",
     "text": [
      "[Stage 7:>                                                          (0 + 1) / 1]\r"
     ]
    },
    {
     "name": "stdout",
     "output_type": "stream",
     "text": [
      "+---+-----+\n",
      "| ID| Nome|\n",
      "+---+-----+\n",
      "|  1|Pedro|\n",
      "+---+-----+\n",
      "only showing top 1 row\n",
      "\n"
     ]
    },
    {
     "name": "stderr",
     "output_type": "stream",
     "text": [
      "                                                                                \r"
     ]
    }
   ],
   "source": [
    "df2.show(1)"
   ]
  },
  {
   "cell_type": "code",
   "execution_count": 9,
   "id": "a3f8ff8d",
   "metadata": {},
   "outputs": [],
   "source": [
    "from pyspark.sql.functions import sum"
   ]
  },
  {
   "cell_type": "code",
   "execution_count": 16,
   "id": "ecf6fce2",
   "metadata": {},
   "outputs": [],
   "source": [
    "    # Criando o primeiro esquema\n",
    "schema2 = \"Produtos STRING, Vendas INT\""
   ]
  },
  {
   "cell_type": "code",
   "execution_count": 17,
   "id": "63923136",
   "metadata": {},
   "outputs": [],
   "source": [
    "    # criando os nome / quantidade de vendas dos produtos\n",
    "vendas = [[\"Caneta\", 10],[\"Lapis\",20],[\"Caneta\", 40]]"
   ]
  },
  {
   "cell_type": "code",
   "execution_count": 18,
   "id": "b1b1b271",
   "metadata": {},
   "outputs": [
    {
     "name": "stderr",
     "output_type": "stream",
     "text": [
      "                                                                                \r"
     ]
    },
    {
     "name": "stdout",
     "output_type": "stream",
     "text": [
      "+--------+------+\n",
      "|Produtos|Vendas|\n",
      "+--------+------+\n",
      "|  Caneta|    10|\n",
      "|   Lapis|    20|\n",
      "|  Caneta|    40|\n",
      "+--------+------+\n",
      "\n"
     ]
    }
   ],
   "source": [
    "    # Adicionando o schema e vendas em um data frame\n",
    "df3 = spark.createDataFrame(vendas, schema2)\n",
    "df3.show()"
   ]
  },
  {
   "cell_type": "code",
   "execution_count": 19,
   "id": "e4cf9fe0",
   "metadata": {},
   "outputs": [],
   "source": [
    "    # Criando um dataframe para agrupar as vendas com o mesmo nome de Produto\n",
    "agrupado = df3.groupBy(\"Produtos\").agg(sum(\"Vendas\"))"
   ]
  },
  {
   "cell_type": "code",
   "execution_count": 20,
   "id": "cc36313d",
   "metadata": {},
   "outputs": [
    {
     "name": "stderr",
     "output_type": "stream",
     "text": [
      "[Stage 15:=============================>                            (1 + 1) / 2]\r"
     ]
    },
    {
     "name": "stdout",
     "output_type": "stream",
     "text": [
      "+--------+-----------+\n",
      "|Produtos|sum(Vendas)|\n",
      "+--------+-----------+\n",
      "|  Caneta|         50|\n",
      "|   Lapis|         20|\n",
      "+--------+-----------+\n",
      "\n"
     ]
    },
    {
     "name": "stderr",
     "output_type": "stream",
     "text": [
      "                                                                                \r"
     ]
    }
   ],
   "source": [
    "agrupado.show()"
   ]
  },
  {
   "cell_type": "code",
   "execution_count": 21,
   "id": "5d5b4e4e",
   "metadata": {},
   "outputs": [
    {
     "name": "stderr",
     "output_type": "stream",
     "text": [
      "[Stage 18:>                                                         (0 + 2) / 2]\r"
     ]
    },
    {
     "name": "stdout",
     "output_type": "stream",
     "text": [
      "+--------+-----------+\n",
      "|Produtos|sum(Vendas)|\n",
      "+--------+-----------+\n",
      "|  Caneta|         50|\n",
      "|   Lapis|         20|\n",
      "+--------+-----------+\n",
      "\n"
     ]
    },
    {
     "name": "stderr",
     "output_type": "stream",
     "text": [
      "                                                                                \r"
     ]
    }
   ],
   "source": [
    "agrupado = df3.groupBy(\"Produtos\").agg(sum(\"Vendas\")).show()"
   ]
  },
  {
   "cell_type": "code",
   "execution_count": 22,
   "id": "867507a5",
   "metadata": {},
   "outputs": [
    {
     "name": "stdout",
     "output_type": "stream",
     "text": [
      "+--------+\n",
      "|Produtos|\n",
      "+--------+\n",
      "|  Caneta|\n",
      "|   Lapis|\n",
      "|  Caneta|\n",
      "+--------+\n",
      "\n"
     ]
    }
   ],
   "source": [
    "    # visualizar apenas a coluna produtos\n",
    "df3.select(\"Produtos\").show()"
   ]
  },
  {
   "cell_type": "code",
   "execution_count": 23,
   "id": "a6ef1404",
   "metadata": {},
   "outputs": [],
   "source": [
    "from pyspark.sql.functions import expr"
   ]
  },
  {
   "cell_type": "code",
   "execution_count": null,
   "id": "4960eaca",
   "metadata": {},
   "outputs": [],
   "source": [
    "df3.select(\"Produtos\",)"
   ]
  }
 ],
 "metadata": {
  "kernelspec": {
   "display_name": "Python 3 (ipykernel)",
   "language": "python",
   "name": "python3"
  },
  "language_info": {
   "codemirror_mode": {
    "name": "ipython",
    "version": 3
   },
   "file_extension": ".py",
   "mimetype": "text/x-python",
   "name": "python",
   "nbconvert_exporter": "python",
   "pygments_lexer": "ipython3",
   "version": "3.10.12"
  }
 },
 "nbformat": 4,
 "nbformat_minor": 5
}
