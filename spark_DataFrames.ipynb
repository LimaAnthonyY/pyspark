{
 "cells": [
  {
   "cell_type": "code",
   "execution_count": 1,
   "id": "198121b4",
   "metadata": {},
   "outputs": [],
   "source": [
    "from pyspark.sql import SparkSession"
   ]
  },
  {
   "cell_type": "code",
   "execution_count": 2,
   "id": "ad7cb27d",
   "metadata": {},
   "outputs": [
    {
     "name": "stderr",
     "output_type": "stream",
     "text": [
      "                                                                                \r"
     ]
    },
    {
     "name": "stdout",
     "output_type": "stream",
     "text": [
      "+-----+---+\n",
      "|   _1| _2|\n",
      "+-----+---+\n",
      "|Pedro| 10|\n",
      "|Maria| 20|\n",
      "| Jose| 40|\n",
      "+-----+---+\n",
      "\n"
     ]
    }
   ],
   "source": [
    "    # Criando o primeiro dataframe\n",
    "df1 = spark.createDataFrame([(\"Pedro\", 10),(\"Maria\", 20),(\"Jose\", 40)])\n",
    "    # cada par de valor um nome e uma idade\n",
    "df1.show()"
   ]
  },
  {
   "cell_type": "code",
   "execution_count": 3,
   "id": "566674de",
   "metadata": {},
   "outputs": [],
   "source": [
    "schema=\"ID int, Nome STRING\"\n",
    "    # Definindo os esquemas"
   ]
  },
  {
   "cell_type": "code",
   "execution_count": 4,
   "id": "1bd25772",
   "metadata": {},
   "outputs": [],
   "source": [
    "dados = [[1,\"Pedro\"],[2,\"Maria\"]]\n",
    "    # Colocando os dados do dataframe"
   ]
  },
  {
   "cell_type": "code",
   "execution_count": 5,
   "id": "676704fc",
   "metadata": {},
   "outputs": [
    {
     "name": "stdout",
     "output_type": "stream",
     "text": [
      "+---+-----+\n",
      "| ID| Nome|\n",
      "+---+-----+\n",
      "|  1|Pedro|\n",
      "|  2|Maria|\n",
      "+---+-----+\n",
      "\n"
     ]
    }
   ],
   "source": [
    "df2 = spark.createDataFrame(dados, schema)\n",
    "df2.show()\n",
    "    # Agora a coluna tem nome não numero aleatorio."
   ]
  },
  {
   "cell_type": "code",
   "execution_count": 6,
   "id": "7fcebd3e",
   "metadata": {},
   "outputs": [
    {
     "name": "stdout",
     "output_type": "stream",
     "text": [
      "+---+-----+\n",
      "| ID| Nome|\n",
      "+---+-----+\n",
      "|  1|Pedro|\n",
      "+---+-----+\n",
      "only showing top 1 row\n",
      "\n"
     ]
    }
   ],
   "source": [
    "df2.show(1)"
   ]
  },
  {
   "cell_type": "code",
   "execution_count": 7,
   "id": "79c29c04",
   "metadata": {},
   "outputs": [],
   "source": [
    "from pyspark.sql.functions import sum"
   ]
  },
  {
   "cell_type": "code",
   "execution_count": 8,
   "id": "617706b8",
   "metadata": {},
   "outputs": [],
   "source": [
    "    # Criando o primeiro esquema\n",
    "schema2 = \"Produtos STRING, Vendas INT\""
   ]
  },
  {
   "cell_type": "code",
   "execution_count": 9,
   "id": "ea168338",
   "metadata": {},
   "outputs": [],
   "source": [
    "    # criando os nome / quantidade de vendas dos produtos\n",
    "vendas = [[\"Caneta\", 10],[\"Lapis\",20],[\"Caneta\", 40]]"
   ]
  },
  {
   "cell_type": "code",
   "execution_count": 10,
   "id": "751d8aed",
   "metadata": {},
   "outputs": [
    {
     "name": "stdout",
     "output_type": "stream",
     "text": [
      "+--------+------+\n",
      "|Produtos|Vendas|\n",
      "+--------+------+\n",
      "|  Caneta|    10|\n",
      "|   Lapis|    20|\n",
      "|  Caneta|    40|\n",
      "+--------+------+\n",
      "\n"
     ]
    }
   ],
   "source": [
    "    # Adicionando o schema e vendas em um data frame\n",
    "df3 = spark.createDataFrame(vendas, schema2)\n",
    "df3.show()"
   ]
  },
  {
   "cell_type": "code",
   "execution_count": 11,
   "id": "358ccff2",
   "metadata": {},
   "outputs": [],
   "source": [
    "    # Criando um dataframe para agrupar as vendas com o mesmo nome de Produto\n",
    "agrupado = df3.groupBy(\"Produtos\").agg(sum(\"Vendas\"))"
   ]
  },
  {
   "cell_type": "code",
   "execution_count": 12,
   "id": "bfe7501c",
   "metadata": {},
   "outputs": [
    {
     "name": "stderr",
     "output_type": "stream",
     "text": [
      "[Stage 8:>                                                          (0 + 2) / 2]\r"
     ]
    },
    {
     "name": "stdout",
     "output_type": "stream",
     "text": [
      "+--------+-----------+\n",
      "|Produtos|sum(Vendas)|\n",
      "+--------+-----------+\n",
      "|  Caneta|         50|\n",
      "|   Lapis|         20|\n",
      "+--------+-----------+\n",
      "\n"
     ]
    },
    {
     "name": "stderr",
     "output_type": "stream",
     "text": [
      "                                                                                \r"
     ]
    }
   ],
   "source": [
    "agrupado.show()"
   ]
  },
  {
   "cell_type": "code",
   "execution_count": 13,
   "id": "968cc5f1",
   "metadata": {},
   "outputs": [
    {
     "name": "stdout",
     "output_type": "stream",
     "text": [
      "+--------+-----------+\n",
      "|Produtos|sum(Vendas)|\n",
      "+--------+-----------+\n",
      "|  Caneta|         50|\n",
      "|   Lapis|         20|\n",
      "+--------+-----------+\n",
      "\n"
     ]
    }
   ],
   "source": [
    "agrupado = df3.groupBy(\"Produtos\").agg(sum(\"Vendas\")).show()"
   ]
  },
  {
   "cell_type": "code",
   "execution_count": 14,
   "id": "bb1689c1",
   "metadata": {},
   "outputs": [
    {
     "name": "stdout",
     "output_type": "stream",
     "text": [
      "+--------+\n",
      "|Produtos|\n",
      "+--------+\n",
      "|  Caneta|\n",
      "|   Lapis|\n",
      "|  Caneta|\n",
      "+--------+\n",
      "\n"
     ]
    }
   ],
   "source": [
    "    # visualizar apenas a coluna produtos\n",
    "df3.select(\"Produtos\").show()"
   ]
  },
  {
   "cell_type": "code",
   "execution_count": 15,
   "id": "4f92dfe2",
   "metadata": {},
   "outputs": [],
   "source": [
    "from pyspark.sql.functions import expr"
   ]
  },
  {
   "cell_type": "code",
   "execution_count": 16,
   "id": "ab95764d",
   "metadata": {},
   "outputs": [
    {
     "name": "stdout",
     "output_type": "stream",
     "text": [
      "+--------+\n",
      "|Produtos|\n",
      "+--------+\n",
      "|  Caneta|\n",
      "|   Lapis|\n",
      "|  Caneta|\n",
      "+--------+\n",
      "\n"
     ]
    }
   ],
   "source": [
    "df3.select(\"Produtos\",).show()"
   ]
  },
  {
   "cell_type": "code",
   "execution_count": 17,
   "id": "46f99fd9",
   "metadata": {},
   "outputs": [
    {
     "data": {
      "text/plain": [
       "StructType([StructField('Produtos', StringType(), True), StructField('Vendas', IntegerType(), True)])"
      ]
     },
     "execution_count": 17,
     "metadata": {},
     "output_type": "execute_result"
    }
   ],
   "source": [
    "df3.schema"
   ]
  },
  {
   "cell_type": "code",
   "execution_count": 18,
   "id": "d7b472f5",
   "metadata": {},
   "outputs": [
    {
     "data": {
      "text/plain": [
       "['Produtos', 'Vendas']"
      ]
     },
     "execution_count": 18,
     "metadata": {},
     "output_type": "execute_result"
    }
   ],
   "source": [
    "df3.columns"
   ]
  },
  {
   "cell_type": "code",
   "execution_count": 19,
   "id": "4c947d2d",
   "metadata": {},
   "outputs": [],
   "source": [
    "    # Manipulação de DF\n",
    "from pyspark.sql.types import*"
   ]
  },
  {
   "cell_type": "code",
   "execution_count": 23,
   "id": "9edafd99",
   "metadata": {},
   "outputs": [],
   "source": [
    "arqschema = 'ID INT, Nome STRING, Status STRING, Cidade STRING, Vendas INT, Data STRING'"
   ]
  },
  {
   "cell_type": "code",
   "execution_count": 24,
   "id": "e579390e",
   "metadata": {},
   "outputs": [
    {
     "name": "stdout",
     "output_type": "stream",
     "text": [
      "+---+-------------------+------+-------------+------+----------+\n",
      "| ID|               Nome|Status|       Cidade|Vendas|      Data|\n",
      "+---+-------------------+------+-------------+------+----------+\n",
      "|  1|   Carminda Pestana| Ativo|  Santa Maria|    23|2020-08-11|\n",
      "|  2|    Deolinda Vilela| Ativo|Novo Hamburgo|    34|2020-03-05|\n",
      "|  3|   Emídio Dornelles| Ativo| Porto Alegre|    34|2020-02-05|\n",
      "|  4|Felisbela Dornelles| Ativo| Porto Alegre|    36|2020-02-05|\n",
      "|  5|     Graça Ornellas| Ativo| Porto Alegre|    12|2020-02-05|\n",
      "|  6|   Matilde Rebouças| Ativo| Porto Alegre|    22|2019-01-05|\n",
      "|  7|    Noêmia   Orriça| Ativo|  Santa Maria|    45|2019-10-05|\n",
      "|  8|      Roque Vásquez| Ativo| Porto Alegre|    65|2020-03-05|\n",
      "|  9|      Uriel Queiroz| Ativo| Porto Alegre|    54|2018-05-05|\n",
      "| 10|   Viviana Sequeira| Ativo| Porto Alegre|     0|2020-09-05|\n",
      "+---+-------------------+------+-------------+------+----------+\n",
      "\n"
     ]
    }
   ],
   "source": [
    "despachantes = spark.read.csv('/home/anthony/pyspark/Arquivos adicionais/despachantes.csv', header=False, schema = arqschema)\n",
    "despachantes.show()"
   ]
  },
  {
   "cell_type": "code",
   "execution_count": 25,
   "id": "80cbf4de",
   "metadata": {},
   "outputs": [
    {
     "name": "stdout",
     "output_type": "stream",
     "text": [
      "+---+-------------------+-----+-------------+---+----------+\n",
      "|_c0|                _c1|  _c2|          _c3|_c4|       _c5|\n",
      "+---+-------------------+-----+-------------+---+----------+\n",
      "|  1|   Carminda Pestana|Ativo|  Santa Maria| 23|2020-08-11|\n",
      "|  2|    Deolinda Vilela|Ativo|Novo Hamburgo| 34|2020-03-05|\n",
      "|  3|   Emídio Dornelles|Ativo| Porto Alegre| 34|2020-02-05|\n",
      "|  4|Felisbela Dornelles|Ativo| Porto Alegre| 36|2020-02-05|\n",
      "|  5|     Graça Ornellas|Ativo| Porto Alegre| 12|2020-02-05|\n",
      "|  6|   Matilde Rebouças|Ativo| Porto Alegre| 22|2019-01-05|\n",
      "|  7|    Noêmia   Orriça|Ativo|  Santa Maria| 45|2019-10-05|\n",
      "|  8|      Roque Vásquez|Ativo| Porto Alegre| 65|2020-03-05|\n",
      "|  9|      Uriel Queiroz|Ativo| Porto Alegre| 54|2018-05-05|\n",
      "| 10|   Viviana Sequeira|Ativo| Porto Alegre|  0|2020-09-05|\n",
      "+---+-------------------+-----+-------------+---+----------+\n",
      "\n"
     ]
    }
   ],
   "source": [
    "    # Nomeia a coluna e os tipos de dados automaticamente\n",
    "desp_autoschema = spark.read.load('/home/anthony/pyspark/Arquivos adicionais/despachantes.csv', header=False, format='csv', sep=\",\", inferschema = True)\n",
    "desp_autoschema.show()"
   ]
  },
  {
   "cell_type": "code",
   "execution_count": 26,
   "id": "7e867700",
   "metadata": {},
   "outputs": [
    {
     "data": {
      "text/plain": [
       "StructType([StructField('ID', IntegerType(), True), StructField('Nome', StringType(), True), StructField('Status', StringType(), True), StructField('Cidade', StringType(), True), StructField('Vendas', IntegerType(), True), StructField('Data', StringType(), True)])"
      ]
     },
     "execution_count": 26,
     "metadata": {},
     "output_type": "execute_result"
    }
   ],
   "source": [
    "despachantes.schema"
   ]
  },
  {
   "cell_type": "code",
   "execution_count": 27,
   "id": "a613db60",
   "metadata": {},
   "outputs": [
    {
     "data": {
      "text/plain": [
       "StructType([StructField('_c0', IntegerType(), True), StructField('_c1', StringType(), True), StructField('_c2', StringType(), True), StructField('_c3', StringType(), True), StructField('_c4', IntegerType(), True), StructField('_c5', DateType(), True)])"
      ]
     },
     "execution_count": 27,
     "metadata": {},
     "output_type": "execute_result"
    }
   ],
   "source": [
    "desp_autoschema.schema"
   ]
  },
  {
   "cell_type": "code",
   "execution_count": 45,
   "id": "a3ef5a52",
   "metadata": {},
   "outputs": [],
   "source": [
    "    # Filtrando os dados\n",
    "from pyspark.sql import functions as Func\n",
    "from pyspark.sql.functions import *"
   ]
  },
  {
   "cell_type": "code",
   "execution_count": 29,
   "id": "67217536",
   "metadata": {},
   "outputs": [
    {
     "name": "stdout",
     "output_type": "stream",
     "text": [
      "+---+-------------------+------+\n",
      "| ID|               Nome|Vendas|\n",
      "+---+-------------------+------+\n",
      "|  1|   Carminda Pestana|    23|\n",
      "|  2|    Deolinda Vilela|    34|\n",
      "|  3|   Emídio Dornelles|    34|\n",
      "|  4|Felisbela Dornelles|    36|\n",
      "|  6|   Matilde Rebouças|    22|\n",
      "|  7|    Noêmia   Orriça|    45|\n",
      "|  8|      Roque Vásquez|    65|\n",
      "|  9|      Uriel Queiroz|    54|\n",
      "+---+-------------------+------+\n",
      "\n"
     ]
    }
   ],
   "source": [
    "    # DF cuja qt de vendas seja > 20\n",
    "despachantes.select('ID', 'Nome', 'Vendas').where(Func.col('Vendas')>20).show()"
   ]
  },
  {
   "cell_type": "code",
   "execution_count": 32,
   "id": "2d1323b7",
   "metadata": {},
   "outputs": [
    {
     "name": "stdout",
     "output_type": "stream",
     "text": [
      "+---+-------------------+------+\n",
      "| ID|               Nome|Vendas|\n",
      "+---+-------------------+------+\n",
      "|  1|   Carminda Pestana|    23|\n",
      "|  2|    Deolinda Vilela|    34|\n",
      "|  3|   Emídio Dornelles|    34|\n",
      "|  4|Felisbela Dornelles|    36|\n",
      "|  6|   Matilde Rebouças|    22|\n",
      "+---+-------------------+------+\n",
      "\n"
     ]
    }
   ],
   "source": [
    "    # DF cuja vendas seja > 20 e < 40\n",
    "    # & | - (e ou not)\n",
    "despachantes.select('ID', 'Nome', 'Vendas').where((Func.col('Vendas')>20) & (Func.col(\"Vendas\") <40)).show()"
   ]
  },
  {
   "cell_type": "code",
   "execution_count": 36,
   "id": "913a498a",
   "metadata": {},
   "outputs": [
    {
     "name": "stdout",
     "output_type": "stream",
     "text": [
      "+---+----------------+------+\n",
      "| ID|            Nome|Vendas|\n",
      "+---+----------------+------+\n",
      "|  5|  Graça Ornellas|    12|\n",
      "|  9|   Uriel Queiroz|    54|\n",
      "| 10|Viviana Sequeira|     0|\n",
      "+---+----------------+------+\n",
      "\n"
     ]
    }
   ],
   "source": [
    "    # exemplo com ou\n",
    "despachantes.select('ID', 'Nome', 'Vendas').where((Func.col('Vendas')==54) | (Func.col(\"Vendas\") < 20)).show()"
   ]
  },
  {
   "cell_type": "code",
   "execution_count": 42,
   "id": "0d2596ee",
   "metadata": {},
   "outputs": [
    {
     "data": {
      "text/plain": [
       "['ID', 'Nomes', 'Status', 'Cidade', 'Vendas', 'Data']"
      ]
     },
     "execution_count": 42,
     "metadata": {},
     "output_type": "execute_result"
    }
   ],
   "source": [
    "    # renomear colunas de um DF\n",
    "novodf = despachantes.withColumnRenamed(\"Nome\", \"Nomes\")\n",
    "novodf.columns"
   ]
  },
  {
   "cell_type": "code",
   "execution_count": 48,
   "id": "5e1787b3",
   "metadata": {},
   "outputs": [
    {
     "data": {
      "text/plain": [
       "StructType([StructField('ID', IntegerType(), True), StructField('Nome', StringType(), True), StructField('Status', StringType(), True), StructField('Cidade', StringType(), True), StructField('Vendas', IntegerType(), True), StructField('Data', StringType(), True), StructField('data2', TimestampType(), True)])"
      ]
     },
     "execution_count": 48,
     "metadata": {},
     "output_type": "execute_result"
    }
   ],
   "source": [
    "    # mudando o tipo da coluna data para timestamp\n",
    "despachantes2 = despachantes.withColumn(\"data2\", to_timestamp(Func.col(\"Data\"),\"yyyy-MM-d\"))\n",
    "despachantes2.schema"
   ]
  },
  {
   "cell_type": "code",
   "execution_count": 49,
   "id": "a30ce176",
   "metadata": {},
   "outputs": [
    {
     "name": "stdout",
     "output_type": "stream",
     "text": [
      "+----------+\n",
      "|year(Data)|\n",
      "+----------+\n",
      "|      2020|\n",
      "|      2020|\n",
      "|      2020|\n",
      "|      2020|\n",
      "|      2020|\n",
      "|      2019|\n",
      "|      2019|\n",
      "|      2020|\n",
      "|      2018|\n",
      "|      2020|\n",
      "+----------+\n",
      "\n"
     ]
    }
   ],
   "source": [
    "    # Selecionando somente pelo ano de Data\n",
    "despachantes2.select(year(\"Data\")).show()"
   ]
  },
  {
   "cell_type": "code",
   "execution_count": 50,
   "id": "711badb1",
   "metadata": {},
   "outputs": [
    {
     "name": "stdout",
     "output_type": "stream",
     "text": [
      "+----------+\n",
      "|year(Data)|\n",
      "+----------+\n",
      "|      2018|\n",
      "|      2019|\n",
      "|      2020|\n",
      "+----------+\n",
      "\n"
     ]
    }
   ],
   "source": [
    "    # Selecionando somente pelo ano de Data apenas com os anos não repetidos\n",
    "despachantes2.select(year(\"Data\")).distinct().show()"
   ]
  },
  {
   "cell_type": "code",
   "execution_count": 51,
   "id": "c731ff7f",
   "metadata": {},
   "outputs": [
    {
     "name": "stdout",
     "output_type": "stream",
     "text": [
      "+-------------------+----------+\n",
      "|               Nome|year(Data)|\n",
      "+-------------------+----------+\n",
      "|   Carminda Pestana|      2020|\n",
      "|    Deolinda Vilela|      2020|\n",
      "|   Emídio Dornelles|      2020|\n",
      "|Felisbela Dornelles|      2020|\n",
      "|     Graça Ornellas|      2020|\n",
      "|   Matilde Rebouças|      2019|\n",
      "|    Noêmia   Orriça|      2019|\n",
      "|      Roque Vásquez|      2020|\n",
      "|      Uriel Queiroz|      2018|\n",
      "|   Viviana Sequeira|      2020|\n",
      "+-------------------+----------+\n",
      "\n"
     ]
    }
   ],
   "source": [
    "    # Selecionando a coluna data pelo ano e nome tudo ordenado por Nome (a-z)\n",
    "despachantes2.select(\"Nome\",year(\"Data\")).orderBy(\"Nome\").show()"
   ]
  },
  {
   "cell_type": "code",
   "execution_count": 52,
   "id": "a9fc28d0",
   "metadata": {},
   "outputs": [
    {
     "name": "stdout",
     "output_type": "stream",
     "text": [
      "+----------+-----+\n",
      "|year(Data)|count|\n",
      "+----------+-----+\n",
      "|      2018|    1|\n",
      "|      2019|    2|\n",
      "|      2020|    7|\n",
      "+----------+-----+\n",
      "\n"
     ]
    }
   ],
   "source": [
    "    # Selecionando a coluna data e agrupando elas por ano fazendo a contagem dos anos\n",
    "despachantes2.select(\"Data\").groupBy(year(\"Data\")).count().show()"
   ]
  },
  {
   "cell_type": "code",
   "execution_count": 53,
   "id": "77c286e2",
   "metadata": {},
   "outputs": [
    {
     "name": "stdout",
     "output_type": "stream",
     "text": [
      "+-----------+\n",
      "|sum(Vendas)|\n",
      "+-----------+\n",
      "|        325|\n",
      "+-----------+\n",
      "\n"
     ]
    }
   ],
   "source": [
    "    # Soma das vendas\n",
    "despachantes2.select(Func.sum(\"Vendas\")).show()"
   ]
  },
  {
   "cell_type": "code",
   "execution_count": 54,
   "id": "18174d88",
   "metadata": {},
   "outputs": [
    {
     "name": "stdout",
     "output_type": "stream",
     "text": [
      "+---+-------------------+------+-------------+------+----------+\n",
      "| ID|               Nome|Status|       Cidade|Vendas|      Data|\n",
      "+---+-------------------+------+-------------+------+----------+\n",
      "|  1|   Carminda Pestana| Ativo|  Santa Maria|    23|2020-08-11|\n",
      "|  2|    Deolinda Vilela| Ativo|Novo Hamburgo|    34|2020-03-05|\n",
      "|  3|   Emídio Dornelles| Ativo| Porto Alegre|    34|2020-02-05|\n",
      "|  4|Felisbela Dornelles| Ativo| Porto Alegre|    36|2020-02-05|\n",
      "|  5|     Graça Ornellas| Ativo| Porto Alegre|    12|2020-02-05|\n",
      "|  6|   Matilde Rebouças| Ativo| Porto Alegre|    22|2019-01-05|\n",
      "|  7|    Noêmia   Orriça| Ativo|  Santa Maria|    45|2019-10-05|\n",
      "|  8|      Roque Vásquez| Ativo| Porto Alegre|    65|2020-03-05|\n",
      "|  9|      Uriel Queiroz| Ativo| Porto Alegre|    54|2018-05-05|\n",
      "| 10|   Viviana Sequeira| Ativo| Porto Alegre|     0|2020-09-05|\n",
      "+---+-------------------+------+-------------+------+----------+\n",
      "\n"
     ]
    }
   ],
   "source": [
    "despachantes.show() # dados tabulados"
   ]
  },
  {
   "cell_type": "code",
   "execution_count": 55,
   "id": "425e8271",
   "metadata": {},
   "outputs": [
    {
     "data": {
      "text/plain": [
       "[Row(ID=1, Nome='Carminda Pestana', Status='Ativo', Cidade='Santa Maria', Vendas=23, Data='2020-08-11')]"
      ]
     },
     "execution_count": 55,
     "metadata": {},
     "output_type": "execute_result"
    }
   ],
   "source": [
    "despachantes.take(1) # formato em linha"
   ]
  },
  {
   "cell_type": "code",
   "execution_count": 56,
   "id": "756d1ed9",
   "metadata": {},
   "outputs": [
    {
     "data": {
      "text/plain": [
       "[Row(ID=1, Nome='Carminda Pestana', Status='Ativo', Cidade='Santa Maria', Vendas=23, Data='2020-08-11'),\n",
       " Row(ID=2, Nome='Deolinda Vilela', Status='Ativo', Cidade='Novo Hamburgo', Vendas=34, Data='2020-03-05'),\n",
       " Row(ID=3, Nome='Emídio Dornelles', Status='Ativo', Cidade='Porto Alegre', Vendas=34, Data='2020-02-05'),\n",
       " Row(ID=4, Nome='Felisbela Dornelles', Status='Ativo', Cidade='Porto Alegre', Vendas=36, Data='2020-02-05'),\n",
       " Row(ID=5, Nome='Graça Ornellas', Status='Ativo', Cidade='Porto Alegre', Vendas=12, Data='2020-02-05'),\n",
       " Row(ID=6, Nome='Matilde Rebouças', Status='Ativo', Cidade='Porto Alegre', Vendas=22, Data='2019-01-05'),\n",
       " Row(ID=7, Nome='Noêmia   Orriça', Status='Ativo', Cidade='Santa Maria', Vendas=45, Data='2019-10-05'),\n",
       " Row(ID=8, Nome='Roque Vásquez', Status='Ativo', Cidade='Porto Alegre', Vendas=65, Data='2020-03-05'),\n",
       " Row(ID=9, Nome='Uriel Queiroz', Status='Ativo', Cidade='Porto Alegre', Vendas=54, Data='2018-05-05'),\n",
       " Row(ID=10, Nome='Viviana Sequeira', Status='Ativo', Cidade='Porto Alegre', Vendas=0, Data='2020-09-05')]"
      ]
     },
     "execution_count": 56,
     "metadata": {},
     "output_type": "execute_result"
    }
   ],
   "source": [
    "despachantes.collect() # Todos os dados em forma de lista"
   ]
  },
  {
   "cell_type": "code",
   "execution_count": 57,
   "id": "e4106962",
   "metadata": {},
   "outputs": [
    {
     "data": {
      "text/plain": [
       "10"
      ]
     },
     "execution_count": 57,
     "metadata": {},
     "output_type": "execute_result"
    }
   ],
   "source": [
    "despachantes.count() # retorna o numero de linhas"
   ]
  },
  {
   "cell_type": "code",
   "execution_count": 58,
   "id": "7cb904e7",
   "metadata": {},
   "outputs": [
    {
     "name": "stdout",
     "output_type": "stream",
     "text": [
      "+---+-------------------+------+-------------+------+----------+\n",
      "| ID|               Nome|Status|       Cidade|Vendas|      Data|\n",
      "+---+-------------------+------+-------------+------+----------+\n",
      "|  1|   Carminda Pestana| Ativo|  Santa Maria|    23|2020-08-11|\n",
      "|  2|    Deolinda Vilela| Ativo|Novo Hamburgo|    34|2020-03-05|\n",
      "|  3|   Emídio Dornelles| Ativo| Porto Alegre|    34|2020-02-05|\n",
      "|  4|Felisbela Dornelles| Ativo| Porto Alegre|    36|2020-02-05|\n",
      "|  5|     Graça Ornellas| Ativo| Porto Alegre|    12|2020-02-05|\n",
      "|  6|   Matilde Rebouças| Ativo| Porto Alegre|    22|2019-01-05|\n",
      "|  7|    Noêmia   Orriça| Ativo|  Santa Maria|    45|2019-10-05|\n",
      "|  8|      Roque Vásquez| Ativo| Porto Alegre|    65|2020-03-05|\n",
      "|  9|      Uriel Queiroz| Ativo| Porto Alegre|    54|2018-05-05|\n",
      "| 10|   Viviana Sequeira| Ativo| Porto Alegre|     0|2020-09-05|\n",
      "+---+-------------------+------+-------------+------+----------+\n",
      "\n"
     ]
    }
   ],
   "source": [
    "despachantes.show()"
   ]
  },
  {
   "cell_type": "code",
   "execution_count": 59,
   "id": "cfe77f40",
   "metadata": {},
   "outputs": [
    {
     "name": "stdout",
     "output_type": "stream",
     "text": [
      "+---+-------------------+------+-------------+------+----------+\n",
      "| ID|               Nome|Status|       Cidade|Vendas|      Data|\n",
      "+---+-------------------+------+-------------+------+----------+\n",
      "| 10|   Viviana Sequeira| Ativo| Porto Alegre|     0|2020-09-05|\n",
      "|  5|     Graça Ornellas| Ativo| Porto Alegre|    12|2020-02-05|\n",
      "|  6|   Matilde Rebouças| Ativo| Porto Alegre|    22|2019-01-05|\n",
      "|  1|   Carminda Pestana| Ativo|  Santa Maria|    23|2020-08-11|\n",
      "|  2|    Deolinda Vilela| Ativo|Novo Hamburgo|    34|2020-03-05|\n",
      "|  3|   Emídio Dornelles| Ativo| Porto Alegre|    34|2020-02-05|\n",
      "|  4|Felisbela Dornelles| Ativo| Porto Alegre|    36|2020-02-05|\n",
      "|  7|    Noêmia   Orriça| Ativo|  Santa Maria|    45|2019-10-05|\n",
      "|  9|      Uriel Queiroz| Ativo| Porto Alegre|    54|2018-05-05|\n",
      "|  8|      Roque Vásquez| Ativo| Porto Alegre|    65|2020-03-05|\n",
      "+---+-------------------+------+-------------+------+----------+\n",
      "\n"
     ]
    }
   ],
   "source": [
    "    # ordenar os dados por vendas\n",
    "        # por padrao vai em ordem crescente\n",
    "despachantes.orderBy(\"Vendas\").show()"
   ]
  },
  {
   "cell_type": "code",
   "execution_count": 60,
   "id": "51308233",
   "metadata": {},
   "outputs": [
    {
     "name": "stdout",
     "output_type": "stream",
     "text": [
      "+---+-------------------+------+-------------+------+----------+\n",
      "| ID|               Nome|Status|       Cidade|Vendas|      Data|\n",
      "+---+-------------------+------+-------------+------+----------+\n",
      "|  8|      Roque Vásquez| Ativo| Porto Alegre|    65|2020-03-05|\n",
      "|  9|      Uriel Queiroz| Ativo| Porto Alegre|    54|2018-05-05|\n",
      "|  7|    Noêmia   Orriça| Ativo|  Santa Maria|    45|2019-10-05|\n",
      "|  4|Felisbela Dornelles| Ativo| Porto Alegre|    36|2020-02-05|\n",
      "|  2|    Deolinda Vilela| Ativo|Novo Hamburgo|    34|2020-03-05|\n",
      "|  3|   Emídio Dornelles| Ativo| Porto Alegre|    34|2020-02-05|\n",
      "|  1|   Carminda Pestana| Ativo|  Santa Maria|    23|2020-08-11|\n",
      "|  6|   Matilde Rebouças| Ativo| Porto Alegre|    22|2019-01-05|\n",
      "|  5|     Graça Ornellas| Ativo| Porto Alegre|    12|2020-02-05|\n",
      "| 10|   Viviana Sequeira| Ativo| Porto Alegre|     0|2020-09-05|\n",
      "+---+-------------------+------+-------------+------+----------+\n",
      "\n"
     ]
    }
   ],
   "source": [
    "    # em ordem descrescente\n",
    "despachantes.orderBy(Func.col(\"Vendas\").desc()).show()"
   ]
  },
  {
   "cell_type": "code",
   "execution_count": 61,
   "id": "3b6a835f",
   "metadata": {},
   "outputs": [
    {
     "name": "stdout",
     "output_type": "stream",
     "text": [
      "+---+-------------------+------+-------------+------+----------+\n",
      "| ID|               Nome|Status|       Cidade|Vendas|      Data|\n",
      "+---+-------------------+------+-------------+------+----------+\n",
      "|  7|    Noêmia   Orriça| Ativo|  Santa Maria|    45|2019-10-05|\n",
      "|  1|   Carminda Pestana| Ativo|  Santa Maria|    23|2020-08-11|\n",
      "|  8|      Roque Vásquez| Ativo| Porto Alegre|    65|2020-03-05|\n",
      "|  9|      Uriel Queiroz| Ativo| Porto Alegre|    54|2018-05-05|\n",
      "|  4|Felisbela Dornelles| Ativo| Porto Alegre|    36|2020-02-05|\n",
      "|  3|   Emídio Dornelles| Ativo| Porto Alegre|    34|2020-02-05|\n",
      "|  6|   Matilde Rebouças| Ativo| Porto Alegre|    22|2019-01-05|\n",
      "|  5|     Graça Ornellas| Ativo| Porto Alegre|    12|2020-02-05|\n",
      "| 10|   Viviana Sequeira| Ativo| Porto Alegre|     0|2020-09-05|\n",
      "|  2|    Deolinda Vilela| Ativo|Novo Hamburgo|    34|2020-03-05|\n",
      "+---+-------------------+------+-------------+------+----------+\n",
      "\n"
     ]
    }
   ],
   "source": [
    "    # ordenar por cidade de forma descrescente e pela cidade as vendas do menor para o maior\n",
    "despachantes.orderBy(Func.col(\"Cidade\").desc(),Func.col(\"Vendas\").desc()).show()"
   ]
  },
  {
   "cell_type": "code",
   "execution_count": 66,
   "id": "beb8a2c8",
   "metadata": {},
   "outputs": [
    {
     "name": "stdout",
     "output_type": "stream",
     "text": [
      "+-------------+-----------+\n",
      "|       Cidade|sum(Vendas)|\n",
      "+-------------+-----------+\n",
      "|  Santa Maria|         68|\n",
      "|Novo Hamburgo|         34|\n",
      "| Porto Alegre|        223|\n",
      "+-------------+-----------+\n",
      "\n"
     ]
    }
   ],
   "source": [
    "    # Quanto voce vendeu por cidade?\n",
    "despachantes.groupBy(\"Cidade\").agg(sum(\"Vendas\")).show()"
   ]
  },
  {
   "cell_type": "code",
   "execution_count": 71,
   "id": "2ed7819b",
   "metadata": {},
   "outputs": [
    {
     "name": "stdout",
     "output_type": "stream",
     "text": [
      "+-------------+-----------+\n",
      "|       Cidade|sum(Vendas)|\n",
      "+-------------+-----------+\n",
      "| Porto Alegre|        223|\n",
      "|  Santa Maria|         68|\n",
      "|Novo Hamburgo|         34|\n",
      "+-------------+-----------+\n",
      "\n"
     ]
    }
   ],
   "source": [
    "    # agora ordenando de forma Descrecente\n",
    "despachantes.groupBy(\"Cidade\").agg(sum(\"Vendas\")).orderBy(Func.col(\"sum(Vendas)\").desc()).show()"
   ]
  },
  {
   "cell_type": "code",
   "execution_count": 74,
   "id": "4d1d6301",
   "metadata": {},
   "outputs": [
    {
     "name": "stdout",
     "output_type": "stream",
     "text": [
      "+------------+-----------+\n",
      "|      Cidade|sum(Vendas)|\n",
      "+------------+-----------+\n",
      "|Porto Alegre|        223|\n",
      "| Santa Maria|         68|\n",
      "+------------+-----------+\n",
      "\n"
     ]
    }
   ],
   "source": [
    "    # Vendas apenas maior que 40\n",
    "despachantes.groupBy(\"Cidade\").agg(sum(\"Vendas\")).orderBy(Func.col(\"sum(Vendas)\").desc()).where((Func.col(\"sum(Vendas)\")>54)).show()"
   ]
  },
  {
   "cell_type": "code",
   "execution_count": 75,
   "id": "d2053db2",
   "metadata": {},
   "outputs": [
    {
     "name": "stdout",
     "output_type": "stream",
     "text": [
      "+---+---------------+------+-------------+------+----------+\n",
      "| ID|           Nome|Status|       Cidade|Vendas|      Data|\n",
      "+---+---------------+------+-------------+------+----------+\n",
      "|  2|Deolinda Vilela| Ativo|Novo Hamburgo|    34|2020-03-05|\n",
      "+---+---------------+------+-------------+------+----------+\n",
      "\n"
     ]
    }
   ],
   "source": [
    "    # Filtrar apenas o despachante de nome Deolinda Vilela com filter\n",
    "despachantes.filter(Func.col(\"Nome\") == \"Deolinda Vilela\").show()"
   ]
  },
  {
   "cell_type": "code",
   "execution_count": 81,
   "id": "4edd58b8",
   "metadata": {},
   "outputs": [],
   "source": [
    "    # Salvar um DF\n",
    "        # parquet/cvs/JSON/ORC (parquet é o formato padrão)\n",
    "            # Sempre vai criar um diretorio\n",
    "despachantes.write.format(\"parquet\").save(\"/home/anthony/pyspark/Arquivos adicionais/write/dfimportparquet\")"
   ]
  },
  {
   "cell_type": "code",
   "execution_count": 82,
   "id": "5812ee92",
   "metadata": {},
   "outputs": [],
   "source": [
    "despachantes.write.format(\"csv\").save(\"/home/anthony/pyspark/Arquivos adicionais/write/dfimportcsv\")"
   ]
  },
  {
   "cell_type": "code",
   "execution_count": 83,
   "id": "2445f8a1",
   "metadata": {},
   "outputs": [],
   "source": [
    "despachantes.write.format(\"json\").save(\"/home/anthony/pyspark/Arquivos adicionais/write/dfimportjson\")"
   ]
  },
  {
   "cell_type": "code",
   "execution_count": 84,
   "id": "2776e226",
   "metadata": {},
   "outputs": [],
   "source": [
    "despachantes.write.format(\"orc\").save(\"/home/anthony/pyspark/Arquivos adicionais/write/dfimportorc\")"
   ]
  },
  {
   "cell_type": "code",
   "execution_count": 88,
   "id": "5c907b12",
   "metadata": {},
   "outputs": [
    {
     "name": "stdout",
     "output_type": "stream",
     "text": [
      "+---+-------------------+------+-------------+------+----------+\n",
      "| ID|               Nome|Status|       Cidade|Vendas|      Data|\n",
      "+---+-------------------+------+-------------+------+----------+\n",
      "|  1|   Carminda Pestana| Ativo|  Santa Maria|    23|2020-08-11|\n",
      "|  2|    Deolinda Vilela| Ativo|Novo Hamburgo|    34|2020-03-05|\n",
      "|  3|   Emídio Dornelles| Ativo| Porto Alegre|    34|2020-02-05|\n",
      "|  4|Felisbela Dornelles| Ativo| Porto Alegre|    36|2020-02-05|\n",
      "|  5|     Graça Ornellas| Ativo| Porto Alegre|    12|2020-02-05|\n",
      "|  6|   Matilde Rebouças| Ativo| Porto Alegre|    22|2019-01-05|\n",
      "|  7|    Noêmia   Orriça| Ativo|  Santa Maria|    45|2019-10-05|\n",
      "|  8|      Roque Vásquez| Ativo| Porto Alegre|    65|2020-03-05|\n",
      "|  9|      Uriel Queiroz| Ativo| Porto Alegre|    54|2018-05-05|\n",
      "| 10|   Viviana Sequeira| Ativo| Porto Alegre|     0|2020-09-05|\n",
      "+---+-------------------+------+-------------+------+----------+\n",
      "\n"
     ]
    }
   ],
   "source": [
    "    # importar dados de formatos diversos\n",
    "        # Primeiro renomeamos os arquivos que salvamos, substituindo o nome padrão\n",
    "par = spark.read.format(\"parquet\").load(\"/home/anthony/pyspark/Arquivos adicionais/write/dfimportparquet/despachantes.parquet\")\n",
    "par.show()"
   ]
  },
  {
   "cell_type": "code",
   "execution_count": 95,
   "id": "1fce567d",
   "metadata": {},
   "outputs": [
    {
     "data": {
      "text/plain": [
       "StructType([StructField('ID', IntegerType(), True), StructField('Nome', StringType(), True), StructField('Status', StringType(), True), StructField('Cidade', StringType(), True), StructField('Vendas', IntegerType(), True), StructField('Data', StringType(), True)])"
      ]
     },
     "execution_count": 95,
     "metadata": {},
     "output_type": "execute_result"
    }
   ],
   "source": [
    "par.schema"
   ]
  },
  {
   "cell_type": "code",
   "execution_count": 94,
   "id": "3808b256",
   "metadata": {},
   "outputs": [
    {
     "name": "stdout",
     "output_type": "stream",
     "text": [
      "+-------------+----------+---+-------------------+------+------+\n",
      "|       Cidade|      Data| ID|               Nome|Status|Vendas|\n",
      "+-------------+----------+---+-------------------+------+------+\n",
      "|  Santa Maria|2020-08-11|  1|   Carminda Pestana| Ativo|    23|\n",
      "|Novo Hamburgo|2020-03-05|  2|    Deolinda Vilela| Ativo|    34|\n",
      "| Porto Alegre|2020-02-05|  3|   Emídio Dornelles| Ativo|    34|\n",
      "| Porto Alegre|2020-02-05|  4|Felisbela Dornelles| Ativo|    36|\n",
      "| Porto Alegre|2020-02-05|  5|     Graça Ornellas| Ativo|    12|\n",
      "| Porto Alegre|2019-01-05|  6|   Matilde Rebouças| Ativo|    22|\n",
      "|  Santa Maria|2019-10-05|  7|    Noêmia   Orriça| Ativo|    45|\n",
      "| Porto Alegre|2020-03-05|  8|      Roque Vásquez| Ativo|    65|\n",
      "| Porto Alegre|2018-05-05|  9|      Uriel Queiroz| Ativo|    54|\n",
      "| Porto Alegre|2020-09-05| 10|   Viviana Sequeira| Ativo|     0|\n",
      "+-------------+----------+---+-------------------+------+------+\n",
      "\n"
     ]
    },
    {
     "name": "stderr",
     "output_type": "stream",
     "text": [
      "                                                                                \r"
     ]
    }
   ],
   "source": [
    "js = spark.read.format(\"json\").load(\"/home/anthony/pyspark/Arquivos adicionais/write/dfimportjson/despachantes.json\")\n",
    "js.show()"
   ]
  },
  {
   "cell_type": "code",
   "execution_count": 96,
   "id": "4733ad62",
   "metadata": {},
   "outputs": [
    {
     "data": {
      "text/plain": [
       "StructType([StructField('Cidade', StringType(), True), StructField('Data', StringType(), True), StructField('ID', LongType(), True), StructField('Nome', StringType(), True), StructField('Status', StringType(), True), StructField('Vendas', LongType(), True)])"
      ]
     },
     "execution_count": 96,
     "metadata": {},
     "output_type": "execute_result"
    }
   ],
   "source": [
    "js.schema"
   ]
  },
  {
   "cell_type": "code",
   "execution_count": 91,
   "id": "ff933af0",
   "metadata": {},
   "outputs": [
    {
     "name": "stdout",
     "output_type": "stream",
     "text": [
      "+---+-------------------+------+-------------+------+----------+\n",
      "| ID|               Nome|Status|       Cidade|Vendas|      Data|\n",
      "+---+-------------------+------+-------------+------+----------+\n",
      "|  1|   Carminda Pestana| Ativo|  Santa Maria|    23|2020-08-11|\n",
      "|  2|    Deolinda Vilela| Ativo|Novo Hamburgo|    34|2020-03-05|\n",
      "|  3|   Emídio Dornelles| Ativo| Porto Alegre|    34|2020-02-05|\n",
      "|  4|Felisbela Dornelles| Ativo| Porto Alegre|    36|2020-02-05|\n",
      "|  5|     Graça Ornellas| Ativo| Porto Alegre|    12|2020-02-05|\n",
      "|  6|   Matilde Rebouças| Ativo| Porto Alegre|    22|2019-01-05|\n",
      "|  7|    Noêmia   Orriça| Ativo|  Santa Maria|    45|2019-10-05|\n",
      "|  8|      Roque Vásquez| Ativo| Porto Alegre|    65|2020-03-05|\n",
      "|  9|      Uriel Queiroz| Ativo| Porto Alegre|    54|2018-05-05|\n",
      "| 10|   Viviana Sequeira| Ativo| Porto Alegre|     0|2020-09-05|\n",
      "+---+-------------------+------+-------------+------+----------+\n",
      "\n"
     ]
    }
   ],
   "source": [
    "orc = spark.read.format(\"orc\").load(\"/home/anthony/pyspark/Arquivos adicionais/write/dfimportorc/despachantes.orc\")\n",
    "orc.show()"
   ]
  },
  {
   "cell_type": "code",
   "execution_count": 97,
   "id": "c89c8a1a",
   "metadata": {},
   "outputs": [
    {
     "data": {
      "text/plain": [
       "StructType([StructField('ID', IntegerType(), True), StructField('Nome', StringType(), True), StructField('Status', StringType(), True), StructField('Cidade', StringType(), True), StructField('Vendas', IntegerType(), True), StructField('Data', StringType(), True)])"
      ]
     },
     "execution_count": 97,
     "metadata": {},
     "output_type": "execute_result"
    }
   ],
   "source": [
    "orc.schema"
   ]
  },
  {
   "cell_type": "code",
   "execution_count": 93,
   "id": "6526addd",
   "metadata": {},
   "outputs": [
    {
     "name": "stdout",
     "output_type": "stream",
     "text": [
      "+---+-------------------+-----+-------------+---+----------+\n",
      "|_c0|                _c1|  _c2|          _c3|_c4|       _c5|\n",
      "+---+-------------------+-----+-------------+---+----------+\n",
      "|  1|   Carminda Pestana|Ativo|  Santa Maria| 23|2020-08-11|\n",
      "|  2|    Deolinda Vilela|Ativo|Novo Hamburgo| 34|2020-03-05|\n",
      "|  3|   Emídio Dornelles|Ativo| Porto Alegre| 34|2020-02-05|\n",
      "|  4|Felisbela Dornelles|Ativo| Porto Alegre| 36|2020-02-05|\n",
      "|  5|     Graça Ornellas|Ativo| Porto Alegre| 12|2020-02-05|\n",
      "|  6|   Matilde Rebouças|Ativo| Porto Alegre| 22|2019-01-05|\n",
      "|  7|    Noêmia   Orriça|Ativo|  Santa Maria| 45|2019-10-05|\n",
      "|  8|      Roque Vásquez|Ativo| Porto Alegre| 65|2020-03-05|\n",
      "|  9|      Uriel Queiroz|Ativo| Porto Alegre| 54|2018-05-05|\n",
      "| 10|   Viviana Sequeira|Ativo| Porto Alegre|  0|2020-09-05|\n",
      "+---+-------------------+-----+-------------+---+----------+\n",
      "\n"
     ]
    }
   ],
   "source": [
    "csv = spark.read.format(\"csv\").load(\"/home/anthony/pyspark/Arquivos adicionais/write/dfimportcsv/despachantes.csv\")\n",
    "csv.show()"
   ]
  },
  {
   "cell_type": "code",
   "execution_count": 99,
   "id": "412f26f5",
   "metadata": {},
   "outputs": [
    {
     "data": {
      "text/plain": [
       "StructType([StructField('_c0', StringType(), True), StructField('_c1', StringType(), True), StructField('_c2', StringType(), True), StructField('_c3', StringType(), True), StructField('_c4', StringType(), True), StructField('_c5', StringType(), True)])"
      ]
     },
     "execution_count": 99,
     "metadata": {},
     "output_type": "execute_result"
    }
   ],
   "source": [
    "csv.schema"
   ]
  },
  {
   "cell_type": "code",
   "execution_count": 100,
   "id": "b7cad703",
   "metadata": {},
   "outputs": [
    {
     "data": {
      "text/plain": [
       "'ID INT, Nome STRING, Status STRING, Cidade STRING, Vendas INT, Data STRING'"
      ]
     },
     "execution_count": 100,
     "metadata": {},
     "output_type": "execute_result"
    }
   ],
   "source": [
    "    # Definindo o schema\n",
    "arqschema"
   ]
  },
  {
   "cell_type": "code",
   "execution_count": 101,
   "id": "a0c28fe5",
   "metadata": {},
   "outputs": [
    {
     "name": "stdout",
     "output_type": "stream",
     "text": [
      "+---+-------------------+------+-------------+------+----------+\n",
      "| ID|               Nome|Status|       Cidade|Vendas|      Data|\n",
      "+---+-------------------+------+-------------+------+----------+\n",
      "|  1|   Carminda Pestana| Ativo|  Santa Maria|    23|2020-08-11|\n",
      "|  2|    Deolinda Vilela| Ativo|Novo Hamburgo|    34|2020-03-05|\n",
      "|  3|   Emídio Dornelles| Ativo| Porto Alegre|    34|2020-02-05|\n",
      "|  4|Felisbela Dornelles| Ativo| Porto Alegre|    36|2020-02-05|\n",
      "|  5|     Graça Ornellas| Ativo| Porto Alegre|    12|2020-02-05|\n",
      "|  6|   Matilde Rebouças| Ativo| Porto Alegre|    22|2019-01-05|\n",
      "|  7|    Noêmia   Orriça| Ativo|  Santa Maria|    45|2019-10-05|\n",
      "|  8|      Roque Vásquez| Ativo| Porto Alegre|    65|2020-03-05|\n",
      "|  9|      Uriel Queiroz| Ativo| Porto Alegre|    54|2018-05-05|\n",
      "| 10|   Viviana Sequeira| Ativo| Porto Alegre|     0|2020-09-05|\n",
      "+---+-------------------+------+-------------+------+----------+\n",
      "\n"
     ]
    }
   ],
   "source": [
    "csv2 = spark.read.format(\"csv\").load(\"/home/anthony/pyspark/Arquivos adicionais/write/dfimportcsv/despachantes.csv\", schema=arqschema)\n",
    "csv2.show()"
   ]
  },
  {
   "cell_type": "code",
   "execution_count": 102,
   "id": "c02e71e8",
   "metadata": {},
   "outputs": [
    {
     "data": {
      "text/plain": [
       "StructType([StructField('ID', IntegerType(), True), StructField('Nome', StringType(), True), StructField('Status', StringType(), True), StructField('Cidade', StringType(), True), StructField('Vendas', IntegerType(), True), StructField('Data', StringType(), True)])"
      ]
     },
     "execution_count": 102,
     "metadata": {},
     "output_type": "execute_result"
    }
   ],
   "source": [
    "csv2.schema"
   ]
  },
  {
   "cell_type": "code",
   "execution_count": null,
   "id": "1c362f8e",
   "metadata": {},
   "outputs": [],
   "source": []
  }
 ],
 "metadata": {
  "kernelspec": {
   "display_name": "Python 3 (ipykernel)",
   "language": "python",
   "name": "python3"
  },
  "language_info": {
   "codemirror_mode": {
    "name": "ipython",
    "version": 3
   },
   "file_extension": ".py",
   "mimetype": "text/x-python",
   "name": "python",
   "nbconvert_exporter": "python",
   "pygments_lexer": "ipython3",
   "version": "3.10.12"
  }
 },
 "nbformat": 4,
 "nbformat_minor": 5
}
