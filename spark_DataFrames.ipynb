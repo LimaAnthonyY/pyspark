{
 "cells": [
  {
   "cell_type": "code",
   "execution_count": 1,
   "id": "b905f6dd",
   "metadata": {},
   "outputs": [],
   "source": [
    "from pyspark.sql import SparkSession"
   ]
  },
  {
   "cell_type": "code",
   "execution_count": 2,
   "id": "f7228d0e",
   "metadata": {},
   "outputs": [
    {
     "name": "stderr",
     "output_type": "stream",
     "text": [
      "                                                                                \r"
     ]
    },
    {
     "name": "stdout",
     "output_type": "stream",
     "text": [
      "+-----+---+----------+\n",
      "|   _1| _2|        _3|\n",
      "+-----+---+----------+\n",
      "|Pedro| 10|Brasileiro|\n",
      "|Maria| 20| Noruegues|\n",
      "| Jose| 40|   Japones|\n",
      "+-----+---+----------+\n",
      "\n"
     ]
    }
   ],
   "source": [
    "    # Criando o primeiro dataframe\n",
    "df1 = spark.createDataFrame([(\"Pedro\", 10, \"Brasileiro\"),(\"Maria\", 20, \"Noruegues\"),(\"Jose\", 40, \"Japones\")])\n",
    "    # cada par de valor um nome e uma idade\n",
    "df1.show()"
   ]
  },
  {
   "cell_type": "code",
   "execution_count": 3,
   "id": "5f091aef",
   "metadata": {},
   "outputs": [],
   "source": [
    "schema=\"ID int, Nome STRING, Nacionalidade STRING\"\n",
    "    # Definindo os esquemas"
   ]
  },
  {
   "cell_type": "code",
   "execution_count": 4,
   "id": "6d411c96",
   "metadata": {},
   "outputs": [],
   "source": [
    "dados = [[1,\"Pedro\", \"Brasileiro\"],[2,\"Maria\", \"Noruegues\"], [3,\"Jose\", \"Japones\"]]\n",
    "    # Colocando os dados do dataframe"
   ]
  },
  {
   "cell_type": "code",
   "execution_count": 5,
   "id": "5c8310d9",
   "metadata": {},
   "outputs": [
    {
     "name": "stdout",
     "output_type": "stream",
     "text": [
      "+---+-----+-------------+\n",
      "| ID| Nome|Nacionalidade|\n",
      "+---+-----+-------------+\n",
      "|  1|Pedro|   Brasileiro|\n",
      "|  2|Maria|    Noruegues|\n",
      "|  3| Jose|      Japones|\n",
      "+---+-----+-------------+\n",
      "\n"
     ]
    }
   ],
   "source": [
    "df2 = spark.createDataFrame(dados, schema)\n",
    "df2.show()\n",
    "    # Agora a coluna tem nome e não um numero aleatorio."
   ]
  },
  {
   "cell_type": "code",
   "execution_count": 6,
   "id": "e9fb3e6c",
   "metadata": {},
   "outputs": [
    {
     "name": "stdout",
     "output_type": "stream",
     "text": [
      "+---+-----+-------------+\n",
      "| ID| Nome|Nacionalidade|\n",
      "+---+-----+-------------+\n",
      "|  1|Pedro|   Brasileiro|\n",
      "|  2|Maria|    Noruegues|\n",
      "+---+-----+-------------+\n",
      "only showing top 2 rows\n",
      "\n"
     ]
    }
   ],
   "source": [
    "df2.show(2)\n",
    "# Mostrando 2 itens"
   ]
  },
  {
   "cell_type": "code",
   "execution_count": 7,
   "id": "9fcab02e",
   "metadata": {},
   "outputs": [],
   "source": [
    "from pyspark.sql.functions import sum"
   ]
  },
  {
   "cell_type": "code",
   "execution_count": 8,
   "id": "5a975df5",
   "metadata": {},
   "outputs": [],
   "source": [
    "    # Criando o novo esquema\n",
    "schema2 = \"Produtos STRING, Vendas INT, Valor FLOAT\""
   ]
  },
  {
   "cell_type": "code",
   "execution_count": 9,
   "id": "5efa6503",
   "metadata": {},
   "outputs": [],
   "source": [
    "    # criando os nome / quantidade de vendas dos produtos\n",
    "vendas = [[\"Caneta\", 10, 29.99],[\"Lapis\",20, 3.22],[\"Caneta\", 40, 5.9],[\"Lapis\",20, 3.22],[\"Caneta\", 40, 5.9]]"
   ]
  },
  {
   "cell_type": "code",
   "execution_count": 10,
   "id": "880f6eed",
   "metadata": {},
   "outputs": [
    {
     "name": "stdout",
     "output_type": "stream",
     "text": [
      "+--------+------+-----+\n",
      "|Produtos|Vendas|Valor|\n",
      "+--------+------+-----+\n",
      "|  Caneta|    10|29.99|\n",
      "|   Lapis|    20| 3.22|\n",
      "|  Caneta|    40|  5.9|\n",
      "|   Lapis|    20| 3.22|\n",
      "|  Caneta|    40|  5.9|\n",
      "+--------+------+-----+\n",
      "\n"
     ]
    }
   ],
   "source": [
    "    # Adicionando o schema e vendas em um data frame\n",
    "df3 = spark.createDataFrame(vendas, schema2)\n",
    "df3.show()"
   ]
  },
  {
   "cell_type": "code",
   "execution_count": 11,
   "id": "d417c713",
   "metadata": {},
   "outputs": [],
   "source": [
    "    # Criando um dataframe para agrupar as vendas com o mesmo nome de Produto\n",
    "agrupado = df3.groupBy(\"Produtos\").agg(sum(\"Valor\"))"
   ]
  },
  {
   "cell_type": "code",
   "execution_count": 12,
   "id": "79880a35",
   "metadata": {},
   "outputs": [
    {
     "name": "stderr",
     "output_type": "stream",
     "text": [
      "[Stage 8:>                                                          (0 + 2) / 2]\r"
     ]
    },
    {
     "name": "stdout",
     "output_type": "stream",
     "text": [
      "+--------+-----------------+\n",
      "|Produtos|       sum(Valor)|\n",
      "+--------+-----------------+\n",
      "|  Caneta|41.78999996185303|\n",
      "|   Lapis|6.440000057220459|\n",
      "+--------+-----------------+\n",
      "\n"
     ]
    },
    {
     "name": "stderr",
     "output_type": "stream",
     "text": [
      "                                                                                \r"
     ]
    }
   ],
   "source": [
    "agrupado.show()"
   ]
  },
  {
   "cell_type": "code",
   "execution_count": 13,
   "id": "4a298e6f",
   "metadata": {},
   "outputs": [
    {
     "name": "stdout",
     "output_type": "stream",
     "text": [
      "+--------+-----------------+\n",
      "|Produtos|       sum(Valor)|\n",
      "+--------+-----------------+\n",
      "|  Caneta|41.78999996185303|\n",
      "|   Lapis|6.440000057220459|\n",
      "+--------+-----------------+\n",
      "\n"
     ]
    }
   ],
   "source": [
    "agrupado = df3.groupBy(\"Produtos\").agg(sum(\"Valor\")).show()"
   ]
  },
  {
   "cell_type": "code",
   "execution_count": 14,
   "id": "3781feae",
   "metadata": {},
   "outputs": [
    {
     "name": "stdout",
     "output_type": "stream",
     "text": [
      "+--------+\n",
      "|Produtos|\n",
      "+--------+\n",
      "|  Caneta|\n",
      "|   Lapis|\n",
      "|  Caneta|\n",
      "|   Lapis|\n",
      "|  Caneta|\n",
      "+--------+\n",
      "\n"
     ]
    }
   ],
   "source": [
    "    # visualizar apenas a coluna produtos\n",
    "df3.select(\"Produtos\").show()"
   ]
  },
  {
   "cell_type": "code",
   "execution_count": 15,
   "id": "8ce5316a",
   "metadata": {},
   "outputs": [
    {
     "name": "stdout",
     "output_type": "stream",
     "text": [
      "+-----+\n",
      "|Valor|\n",
      "+-----+\n",
      "| 3.22|\n",
      "| 3.22|\n",
      "|  5.9|\n",
      "|  5.9|\n",
      "|29.99|\n",
      "+-----+\n",
      "\n"
     ]
    }
   ],
   "source": [
    "df3.orderBy(\"Valor\").select(\"Valor\").show()"
   ]
  },
  {
   "cell_type": "code",
   "execution_count": 16,
   "id": "a5047a7d",
   "metadata": {},
   "outputs": [],
   "source": [
    "from pyspark.sql.functions import expr"
   ]
  },
  {
   "cell_type": "code",
   "execution_count": 17,
   "id": "3e8ed7f5",
   "metadata": {},
   "outputs": [
    {
     "name": "stdout",
     "output_type": "stream",
     "text": [
      "+--------+\n",
      "|Produtos|\n",
      "+--------+\n",
      "|  Caneta|\n",
      "|   Lapis|\n",
      "|  Caneta|\n",
      "|   Lapis|\n",
      "|  Caneta|\n",
      "+--------+\n",
      "\n"
     ]
    }
   ],
   "source": [
    "df3.select(\"Produtos\",).show()"
   ]
  },
  {
   "cell_type": "code",
   "execution_count": 18,
   "id": "5ac63641",
   "metadata": {},
   "outputs": [
    {
     "name": "stdout",
     "output_type": "stream",
     "text": [
      "root\n",
      " |-- Produtos: string (nullable = true)\n",
      " |-- Vendas: integer (nullable = true)\n",
      " |-- Valor: float (nullable = true)\n",
      "\n"
     ]
    },
    {
     "data": {
      "text/plain": [
       "StructType([StructField('Produtos', StringType(), True), StructField('Vendas', IntegerType(), True), StructField('Valor', FloatType(), True)])"
      ]
     },
     "execution_count": 18,
     "metadata": {},
     "output_type": "execute_result"
    }
   ],
   "source": [
    "df3.printSchema()\n",
    "df3.schema"
   ]
  },
  {
   "cell_type": "code",
   "execution_count": 19,
   "id": "6677f4ba",
   "metadata": {},
   "outputs": [
    {
     "name": "stdout",
     "output_type": "stream",
     "text": [
      "root\n",
      " |-- _1: string (nullable = true)\n",
      " |-- _2: long (nullable = true)\n",
      " |-- _3: string (nullable = true)\n",
      "\n"
     ]
    },
    {
     "data": {
      "text/plain": [
       "StructType([StructField('_1', StringType(), True), StructField('_2', LongType(), True), StructField('_3', StringType(), True)])"
      ]
     },
     "execution_count": 19,
     "metadata": {},
     "output_type": "execute_result"
    }
   ],
   "source": [
    "df1.printSchema()\n",
    "df1.schema"
   ]
  },
  {
   "cell_type": "code",
   "execution_count": 40,
   "id": "3b140760",
   "metadata": {},
   "outputs": [
    {
     "name": "stdout",
     "output_type": "stream",
     "text": [
      "root\n",
      " |-- ID: integer (nullable = true)\n",
      " |-- Nome: string (nullable = true)\n",
      " |-- Nacionalidade: string (nullable = true)\n",
      "\n"
     ]
    },
    {
     "data": {
      "text/plain": [
       "StructType([StructField('ID', IntegerType(), True), StructField('Nome', StringType(), True), StructField('Nacionalidade', StringType(), True)])"
      ]
     },
     "execution_count": 40,
     "metadata": {},
     "output_type": "execute_result"
    }
   ],
   "source": [
    "df2.printSchema()\n",
    "df2.schema"
   ]
  },
  {
   "cell_type": "code",
   "execution_count": 21,
   "id": "230b797c",
   "metadata": {},
   "outputs": [
    {
     "data": {
      "text/plain": [
       "['Produtos', 'Vendas', 'Valor']"
      ]
     },
     "execution_count": 21,
     "metadata": {},
     "output_type": "execute_result"
    }
   ],
   "source": [
    "df3.columns"
   ]
  },
  {
   "cell_type": "code",
   "execution_count": 38,
   "id": "753acc6a",
   "metadata": {},
   "outputs": [],
   "source": [
    "    # Manipulação de DF\n",
    "from pyspark.sql.types import*\n",
    "from pyspark.sql import*"
   ]
  },
  {
   "cell_type": "code",
   "execution_count": 23,
   "id": "5737e159",
   "metadata": {},
   "outputs": [],
   "source": [
    "arqschema = 'ID INT, Nome STRING, Status STRING, Cidade STRING, Vendas INT, Data STRING'"
   ]
  },
  {
   "cell_type": "code",
   "execution_count": 41,
   "id": "aeed63c8",
   "metadata": {},
   "outputs": [],
   "source": [
    "despachantes = spark.read.csv('/home/anthony/pyspark/Arquivos adicionais/despachantes.csv', header=False, schema = arqschema)"
   ]
  },
  {
   "cell_type": "code",
   "execution_count": 44,
   "id": "96289544",
   "metadata": {},
   "outputs": [],
   "source": [
    "    # Nomeia a coluna e os tipos de dados automaticamente\n",
    "desp_autoschema = spark.read.load('/home/anthony/pyspark/Arquivos adicionais/despachantes.csv', header=False, format='csv', sep=\",\", inferschema = True)"
   ]
  },
  {
   "cell_type": "code",
   "execution_count": 48,
   "id": "c074a067",
   "metadata": {},
   "outputs": [
    {
     "name": "stdout",
     "output_type": "stream",
     "text": [
      "root\n",
      " |-- ID: integer (nullable = true)\n",
      " |-- Nome: string (nullable = true)\n",
      " |-- Status: string (nullable = true)\n",
      " |-- Cidade: string (nullable = true)\n",
      " |-- Vendas: integer (nullable = true)\n",
      " |-- Data: string (nullable = true)\n",
      "\n"
     ]
    }
   ],
   "source": [
    "despachantes.printSchema()"
   ]
  },
  {
   "cell_type": "code",
   "execution_count": 47,
   "id": "175c7e9a",
   "metadata": {},
   "outputs": [
    {
     "name": "stdout",
     "output_type": "stream",
     "text": [
      "root\n",
      " |-- _c0: integer (nullable = true)\n",
      " |-- _c1: string (nullable = true)\n",
      " |-- _c2: string (nullable = true)\n",
      " |-- _c3: string (nullable = true)\n",
      " |-- _c4: integer (nullable = true)\n",
      " |-- _c5: date (nullable = true)\n",
      "\n"
     ]
    }
   ],
   "source": [
    "desp_autoschema.printSchema()"
   ]
  },
  {
   "cell_type": "code",
   "execution_count": 49,
   "id": "6cdc2d61",
   "metadata": {},
   "outputs": [],
   "source": [
    "    # Filtrando os dados\n",
    "from pyspark.sql import functions as Func\n",
    "from pyspark.sql.functions import *"
   ]
  },
  {
   "cell_type": "code",
   "execution_count": 50,
   "id": "35ae97d7",
   "metadata": {},
   "outputs": [
    {
     "name": "stdout",
     "output_type": "stream",
     "text": [
      "+---+-------------------+------+\n",
      "| ID|               Nome|Vendas|\n",
      "+---+-------------------+------+\n",
      "|  1|   Carminda Pestana|    23|\n",
      "|  2|    Deolinda Vilela|    34|\n",
      "|  3|   Emídio Dornelles|    34|\n",
      "|  4|Felisbela Dornelles|    36|\n",
      "|  6|   Matilde Rebouças|    22|\n",
      "|  7|    Noêmia   Orriça|    45|\n",
      "|  8|      Roque Vásquez|    65|\n",
      "|  9|      Uriel Queiroz|    54|\n",
      "+---+-------------------+------+\n",
      "\n"
     ]
    }
   ],
   "source": [
    "    # DF cuja qt de vendas seja > 20\n",
    "despachantes.select('ID', 'Nome', 'Vendas').where(Func.col('Vendas')>20).show()"
   ]
  },
  {
   "cell_type": "code",
   "execution_count": 51,
   "id": "d0e7fa84",
   "metadata": {},
   "outputs": [
    {
     "name": "stdout",
     "output_type": "stream",
     "text": [
      "+---+-------------------+------+\n",
      "| ID|               Nome|Vendas|\n",
      "+---+-------------------+------+\n",
      "|  1|   Carminda Pestana|    23|\n",
      "|  2|    Deolinda Vilela|    34|\n",
      "|  3|   Emídio Dornelles|    34|\n",
      "|  4|Felisbela Dornelles|    36|\n",
      "|  6|   Matilde Rebouças|    22|\n",
      "+---+-------------------+------+\n",
      "\n"
     ]
    }
   ],
   "source": [
    "    # DF cuja vendas seja > 20 e < 40\n",
    "    # & | - (e ou not)\n",
    "despachantes.select('ID', 'Nome', 'Vendas').where((Func.col('Vendas')>20) & (Func.col(\"Vendas\") <40)).show()"
   ]
  },
  {
   "cell_type": "code",
   "execution_count": 52,
   "id": "42ac6a91",
   "metadata": {},
   "outputs": [
    {
     "name": "stdout",
     "output_type": "stream",
     "text": [
      "+---+----------------+------+\n",
      "| ID|            Nome|Vendas|\n",
      "+---+----------------+------+\n",
      "|  5|  Graça Ornellas|    12|\n",
      "|  9|   Uriel Queiroz|    54|\n",
      "| 10|Viviana Sequeira|     0|\n",
      "+---+----------------+------+\n",
      "\n"
     ]
    }
   ],
   "source": [
    "    # exemplo com ou\n",
    "despachantes.select('ID', 'Nome', 'Vendas').where((Func.col('Vendas')==54) | (Func.col(\"Vendas\") < 20)).show()"
   ]
  },
  {
   "cell_type": "code",
   "execution_count": 84,
   "id": "7b3a741b",
   "metadata": {},
   "outputs": [
    {
     "data": {
      "text/plain": [
       "['ID', 'Nomes', 'Status', 'Cidade', 'Vendas', 'Data']"
      ]
     },
     "execution_count": 84,
     "metadata": {},
     "output_type": "execute_result"
    }
   ],
   "source": [
    "    # renomear colunas de um DF\n",
    "novodf = despachantes.withColumnRenamed(\"Nome\", \"Nomes\")\n",
    "novodf.columns"
   ]
  },
  {
   "cell_type": "code",
   "execution_count": 86,
   "id": "09d5647b",
   "metadata": {},
   "outputs": [
    {
     "name": "stdout",
     "output_type": "stream",
     "text": [
      "root\n",
      " |-- ID: integer (nullable = true)\n",
      " |-- Nome: string (nullable = true)\n",
      " |-- Status: string (nullable = true)\n",
      " |-- Cidade: string (nullable = true)\n",
      " |-- Vendas: integer (nullable = true)\n",
      " |-- Data: string (nullable = true)\n",
      " |-- data2: timestamp (nullable = true)\n",
      "\n"
     ]
    }
   ],
   "source": [
    "    # mudando o tipo da coluna data para timestamp\n",
    "despachantes2 = despachantes.withColumn(\"data2\", to_timestamp(Func.col(\"Data\"),\"yyyy-MM-d\"))\n",
    "despachantes2.printSchema()"
   ]
  },
  {
   "cell_type": "code",
   "execution_count": 58,
   "id": "e1adc111",
   "metadata": {},
   "outputs": [
    {
     "name": "stdout",
     "output_type": "stream",
     "text": [
      "+----------+\n",
      "|year(Data)|\n",
      "+----------+\n",
      "|      2020|\n",
      "|      2020|\n",
      "|      2020|\n",
      "|      2020|\n",
      "|      2020|\n",
      "|      2019|\n",
      "|      2019|\n",
      "|      2020|\n",
      "|      2018|\n",
      "|      2020|\n",
      "+----------+\n",
      "\n"
     ]
    }
   ],
   "source": [
    "    # Selecionando somente pelo ano de Data\n",
    "despachantes2.select(year(\"Data\")).show()"
   ]
  },
  {
   "cell_type": "code",
   "execution_count": 56,
   "id": "5e2bcc4e",
   "metadata": {},
   "outputs": [
    {
     "name": "stdout",
     "output_type": "stream",
     "text": [
      "+----------+\n",
      "|year(Data)|\n",
      "+----------+\n",
      "|      2018|\n",
      "|      2019|\n",
      "|      2020|\n",
      "+----------+\n",
      "\n"
     ]
    }
   ],
   "source": [
    "    # Selecionando somente pelo ano de Data apenas com os anos não repetidos\n",
    "despachantes2.select(year(\"Data\")).distinct().show()"
   ]
  },
  {
   "cell_type": "code",
   "execution_count": 61,
   "id": "9d515165",
   "metadata": {},
   "outputs": [
    {
     "name": "stdout",
     "output_type": "stream",
     "text": [
      "+-------------------+----------+\n",
      "|               Nome|year(Data)|\n",
      "+-------------------+----------+\n",
      "|   Carminda Pestana|      2020|\n",
      "|    Deolinda Vilela|      2020|\n",
      "|   Emídio Dornelles|      2020|\n",
      "|Felisbela Dornelles|      2020|\n",
      "|     Graça Ornellas|      2020|\n",
      "|   Matilde Rebouças|      2019|\n",
      "|    Noêmia   Orriça|      2019|\n",
      "|      Roque Vásquez|      2020|\n",
      "|      Uriel Queiroz|      2018|\n",
      "|   Viviana Sequeira|      2020|\n",
      "+-------------------+----------+\n",
      "\n"
     ]
    }
   ],
   "source": [
    "    # Selecionando a coluna data pelo ano e ordenando nome tudo pelo Nome (a-z)\n",
    "    # Sempre é ordenado do menor para o maior\n",
    "despachantes2.select(\"Nome\",year(\"Data\")).orderBy(\"Nome\").show()"
   ]
  },
  {
   "cell_type": "code",
   "execution_count": 69,
   "id": "9f1a4353",
   "metadata": {},
   "outputs": [
    {
     "name": "stdout",
     "output_type": "stream",
     "text": [
      "+----------+-----+\n",
      "|year(Data)|count|\n",
      "+----------+-----+\n",
      "|      2018|    1|\n",
      "|      2019|    2|\n",
      "|      2020|    7|\n",
      "+----------+-----+\n",
      "\n"
     ]
    }
   ],
   "source": [
    "    # Selecionando a coluna data e agrupando elas por ano fazendo a contagem dos anos\n",
    "despachantes2.select(\"Data\").groupBy(year(\"Data\")).count().show()"
   ]
  },
  {
   "cell_type": "code",
   "execution_count": 53,
   "id": "39a2d0f5",
   "metadata": {},
   "outputs": [
    {
     "name": "stdout",
     "output_type": "stream",
     "text": [
      "+-----------+\n",
      "|sum(Vendas)|\n",
      "+-----------+\n",
      "|        325|\n",
      "+-----------+\n",
      "\n"
     ]
    }
   ],
   "source": [
    "    # Soma das vendas\n",
    "despachantes2.select(Func.sum(\"Vendas\")).show()"
   ]
  },
  {
   "cell_type": "code",
   "execution_count": 87,
   "id": "d748f4cb",
   "metadata": {},
   "outputs": [
    {
     "name": "stdout",
     "output_type": "stream",
     "text": [
      "root\n",
      " |-- ID: integer (nullable = true)\n",
      " |-- Nome: string (nullable = true)\n",
      " |-- Status: string (nullable = true)\n",
      " |-- Cidade: string (nullable = true)\n",
      " |-- Vendas: integer (nullable = true)\n",
      " |-- Data: string (nullable = true)\n",
      " |-- data2: timestamp (nullable = true)\n",
      "\n"
     ]
    }
   ],
   "source": [
    "despachantes2.printSchema() # dados tabulados"
   ]
  },
  {
   "cell_type": "code",
   "execution_count": 76,
   "id": "1a46d452",
   "metadata": {},
   "outputs": [
    {
     "data": {
      "text/plain": [
       "[Row(ID=1, Nome='Carminda Pestana', Status='Ativo', Cidade='Santa Maria', Vendas=23, Data='2020-08-11'),\n",
       " Row(ID=2, Nome='Deolinda Vilela', Status='Ativo', Cidade='Novo Hamburgo', Vendas=34, Data='2020-03-05'),\n",
       " Row(ID=3, Nome='Emídio Dornelles', Status='Ativo', Cidade='Porto Alegre', Vendas=34, Data='2020-02-05'),\n",
       " Row(ID=4, Nome='Felisbela Dornelles', Status='Ativo', Cidade='Porto Alegre', Vendas=36, Data='2020-02-05'),\n",
       " Row(ID=5, Nome='Graça Ornellas', Status='Ativo', Cidade='Porto Alegre', Vendas=12, Data='2020-02-05')]"
      ]
     },
     "execution_count": 76,
     "metadata": {},
     "output_type": "execute_result"
    }
   ],
   "source": [
    "despachantes.take(5) # formato em linha"
   ]
  },
  {
   "cell_type": "code",
   "execution_count": 56,
   "id": "a166ec56",
   "metadata": {},
   "outputs": [
    {
     "data": {
      "text/plain": [
       "[Row(ID=1, Nome='Carminda Pestana', Status='Ativo', Cidade='Santa Maria', Vendas=23, Data='2020-08-11'),\n",
       " Row(ID=2, Nome='Deolinda Vilela', Status='Ativo', Cidade='Novo Hamburgo', Vendas=34, Data='2020-03-05'),\n",
       " Row(ID=3, Nome='Emídio Dornelles', Status='Ativo', Cidade='Porto Alegre', Vendas=34, Data='2020-02-05'),\n",
       " Row(ID=4, Nome='Felisbela Dornelles', Status='Ativo', Cidade='Porto Alegre', Vendas=36, Data='2020-02-05'),\n",
       " Row(ID=5, Nome='Graça Ornellas', Status='Ativo', Cidade='Porto Alegre', Vendas=12, Data='2020-02-05'),\n",
       " Row(ID=6, Nome='Matilde Rebouças', Status='Ativo', Cidade='Porto Alegre', Vendas=22, Data='2019-01-05'),\n",
       " Row(ID=7, Nome='Noêmia   Orriça', Status='Ativo', Cidade='Santa Maria', Vendas=45, Data='2019-10-05'),\n",
       " Row(ID=8, Nome='Roque Vásquez', Status='Ativo', Cidade='Porto Alegre', Vendas=65, Data='2020-03-05'),\n",
       " Row(ID=9, Nome='Uriel Queiroz', Status='Ativo', Cidade='Porto Alegre', Vendas=54, Data='2018-05-05'),\n",
       " Row(ID=10, Nome='Viviana Sequeira', Status='Ativo', Cidade='Porto Alegre', Vendas=0, Data='2020-09-05')]"
      ]
     },
     "execution_count": 56,
     "metadata": {},
     "output_type": "execute_result"
    }
   ],
   "source": [
    "despachantes.collect() # Todos os dados em forma de lista"
   ]
  },
  {
   "cell_type": "code",
   "execution_count": 57,
   "id": "11ce1200",
   "metadata": {},
   "outputs": [
    {
     "data": {
      "text/plain": [
       "10"
      ]
     },
     "execution_count": 57,
     "metadata": {},
     "output_type": "execute_result"
    }
   ],
   "source": [
    "despachantes.count() # retorna o numero de linhas"
   ]
  },
  {
   "cell_type": "code",
   "execution_count": 58,
   "id": "a71fe69a",
   "metadata": {},
   "outputs": [
    {
     "name": "stdout",
     "output_type": "stream",
     "text": [
      "+---+-------------------+------+-------------+------+----------+\n",
      "| ID|               Nome|Status|       Cidade|Vendas|      Data|\n",
      "+---+-------------------+------+-------------+------+----------+\n",
      "|  1|   Carminda Pestana| Ativo|  Santa Maria|    23|2020-08-11|\n",
      "|  2|    Deolinda Vilela| Ativo|Novo Hamburgo|    34|2020-03-05|\n",
      "|  3|   Emídio Dornelles| Ativo| Porto Alegre|    34|2020-02-05|\n",
      "|  4|Felisbela Dornelles| Ativo| Porto Alegre|    36|2020-02-05|\n",
      "|  5|     Graça Ornellas| Ativo| Porto Alegre|    12|2020-02-05|\n",
      "|  6|   Matilde Rebouças| Ativo| Porto Alegre|    22|2019-01-05|\n",
      "|  7|    Noêmia   Orriça| Ativo|  Santa Maria|    45|2019-10-05|\n",
      "|  8|      Roque Vásquez| Ativo| Porto Alegre|    65|2020-03-05|\n",
      "|  9|      Uriel Queiroz| Ativo| Porto Alegre|    54|2018-05-05|\n",
      "| 10|   Viviana Sequeira| Ativo| Porto Alegre|     0|2020-09-05|\n",
      "+---+-------------------+------+-------------+------+----------+\n",
      "\n"
     ]
    }
   ],
   "source": [
    "despachantes.show()"
   ]
  },
  {
   "cell_type": "code",
   "execution_count": 59,
   "id": "00335744",
   "metadata": {},
   "outputs": [
    {
     "name": "stdout",
     "output_type": "stream",
     "text": [
      "+---+-------------------+------+-------------+------+----------+\n",
      "| ID|               Nome|Status|       Cidade|Vendas|      Data|\n",
      "+---+-------------------+------+-------------+------+----------+\n",
      "| 10|   Viviana Sequeira| Ativo| Porto Alegre|     0|2020-09-05|\n",
      "|  5|     Graça Ornellas| Ativo| Porto Alegre|    12|2020-02-05|\n",
      "|  6|   Matilde Rebouças| Ativo| Porto Alegre|    22|2019-01-05|\n",
      "|  1|   Carminda Pestana| Ativo|  Santa Maria|    23|2020-08-11|\n",
      "|  2|    Deolinda Vilela| Ativo|Novo Hamburgo|    34|2020-03-05|\n",
      "|  3|   Emídio Dornelles| Ativo| Porto Alegre|    34|2020-02-05|\n",
      "|  4|Felisbela Dornelles| Ativo| Porto Alegre|    36|2020-02-05|\n",
      "|  7|    Noêmia   Orriça| Ativo|  Santa Maria|    45|2019-10-05|\n",
      "|  9|      Uriel Queiroz| Ativo| Porto Alegre|    54|2018-05-05|\n",
      "|  8|      Roque Vásquez| Ativo| Porto Alegre|    65|2020-03-05|\n",
      "+---+-------------------+------+-------------+------+----------+\n",
      "\n"
     ]
    }
   ],
   "source": [
    "    # ordenar os dados por vendas\n",
    "        # por padrao vai em ordem crescente\n",
    "despachantes.orderBy(\"Vendas\").show()"
   ]
  },
  {
   "cell_type": "code",
   "execution_count": 88,
   "id": "27cfbd6a",
   "metadata": {},
   "outputs": [
    {
     "name": "stdout",
     "output_type": "stream",
     "text": [
      "+---+-------------------+------+-------------+------+----------+\n",
      "| ID|               Nome|Status|       Cidade|Vendas|      Data|\n",
      "+---+-------------------+------+-------------+------+----------+\n",
      "|  8|      Roque Vásquez| Ativo| Porto Alegre|    65|2020-03-05|\n",
      "|  9|      Uriel Queiroz| Ativo| Porto Alegre|    54|2018-05-05|\n",
      "|  7|    Noêmia   Orriça| Ativo|  Santa Maria|    45|2019-10-05|\n",
      "|  4|Felisbela Dornelles| Ativo| Porto Alegre|    36|2020-02-05|\n",
      "|  2|    Deolinda Vilela| Ativo|Novo Hamburgo|    34|2020-03-05|\n",
      "|  3|   Emídio Dornelles| Ativo| Porto Alegre|    34|2020-02-05|\n",
      "|  1|   Carminda Pestana| Ativo|  Santa Maria|    23|2020-08-11|\n",
      "|  6|   Matilde Rebouças| Ativo| Porto Alegre|    22|2019-01-05|\n",
      "|  5|     Graça Ornellas| Ativo| Porto Alegre|    12|2020-02-05|\n",
      "| 10|   Viviana Sequeira| Ativo| Porto Alegre|     0|2020-09-05|\n",
      "+---+-------------------+------+-------------+------+----------+\n",
      "\n"
     ]
    }
   ],
   "source": [
    "    # em ordem descrescente\n",
    "despachantes.orderBy(Func.col(\"Vendas\").desc()).show()"
   ]
  },
  {
   "cell_type": "code",
   "execution_count": 77,
   "id": "44977afb",
   "metadata": {},
   "outputs": [
    {
     "name": "stdout",
     "output_type": "stream",
     "text": [
      "+---+-------------------+------+-------------+------+----------+\n",
      "| ID|               Nome|Status|       Cidade|Vendas|      Data|\n",
      "+---+-------------------+------+-------------+------+----------+\n",
      "|  7|    Noêmia   Orriça| Ativo|  Santa Maria|    45|2019-10-05|\n",
      "|  1|   Carminda Pestana| Ativo|  Santa Maria|    23|2020-08-11|\n",
      "|  8|      Roque Vásquez| Ativo| Porto Alegre|    65|2020-03-05|\n",
      "|  9|      Uriel Queiroz| Ativo| Porto Alegre|    54|2018-05-05|\n",
      "|  4|Felisbela Dornelles| Ativo| Porto Alegre|    36|2020-02-05|\n",
      "|  3|   Emídio Dornelles| Ativo| Porto Alegre|    34|2020-02-05|\n",
      "|  6|   Matilde Rebouças| Ativo| Porto Alegre|    22|2019-01-05|\n",
      "|  5|     Graça Ornellas| Ativo| Porto Alegre|    12|2020-02-05|\n",
      "| 10|   Viviana Sequeira| Ativo| Porto Alegre|     0|2020-09-05|\n",
      "|  2|    Deolinda Vilela| Ativo|Novo Hamburgo|    34|2020-03-05|\n",
      "+---+-------------------+------+-------------+------+----------+\n",
      "\n"
     ]
    }
   ],
   "source": [
    "    # ordenar por cidade de forma descrescente e pela cidade as vendas do menor para o maior\n",
    "despachantes.orderBy(Func.col(\"Cidade\").desc(),Func.col(\"Vendas\").desc()).show()"
   ]
  },
  {
   "cell_type": "code",
   "execution_count": 79,
   "id": "9e9aa844",
   "metadata": {},
   "outputs": [
    {
     "name": "stdout",
     "output_type": "stream",
     "text": [
      "+-------------+-----------+\n",
      "|       Cidade|sum(Vendas)|\n",
      "+-------------+-----------+\n",
      "|  Santa Maria|         68|\n",
      "|Novo Hamburgo|         34|\n",
      "| Porto Alegre|        223|\n",
      "+-------------+-----------+\n",
      "\n",
      "root\n",
      " |-- ID: integer (nullable = true)\n",
      " |-- Nome: string (nullable = true)\n",
      " |-- Status: string (nullable = true)\n",
      " |-- Cidade: string (nullable = true)\n",
      " |-- Vendas: integer (nullable = true)\n",
      " |-- Data: string (nullable = true)\n",
      "\n"
     ]
    }
   ],
   "source": [
    "    # Quanto voce vendeu por cidade?\n",
    "despachantes.groupBy(\"Cidade\").agg(sum(\"Vendas\")).show()\n",
    "despachantes.printSchema()"
   ]
  },
  {
   "cell_type": "code",
   "execution_count": 71,
   "id": "54f5303d",
   "metadata": {},
   "outputs": [
    {
     "name": "stdout",
     "output_type": "stream",
     "text": [
      "+-------------+-----------+\n",
      "|       Cidade|sum(Vendas)|\n",
      "+-------------+-----------+\n",
      "| Porto Alegre|        223|\n",
      "|  Santa Maria|         68|\n",
      "|Novo Hamburgo|         34|\n",
      "+-------------+-----------+\n",
      "\n"
     ]
    }
   ],
   "source": [
    "    # agora ordenando de forma Descrecente\n",
    "despachantes.groupBy(\"Cidade\").agg(sum(\"Vendas\")).orderBy(Func.col(\"sum(Vendas)\").desc()).show()"
   ]
  },
  {
   "cell_type": "code",
   "execution_count": 80,
   "id": "80196bc0",
   "metadata": {},
   "outputs": [
    {
     "name": "stdout",
     "output_type": "stream",
     "text": [
      "+------------+-----------+\n",
      "|      Cidade|sum(Vendas)|\n",
      "+------------+-----------+\n",
      "|Porto Alegre|        223|\n",
      "| Santa Maria|         68|\n",
      "+------------+-----------+\n",
      "\n"
     ]
    }
   ],
   "source": [
    "    # Vendas apenas maior que 40\n",
    "despachantes.groupBy(\"Cidade\").agg(sum(\"Vendas\")).orderBy(Func.col(\"sum(Vendas)\").desc()).where((Func.col(\"sum(Vendas)\")>54)).show()"
   ]
  },
  {
   "cell_type": "code",
   "execution_count": 89,
   "id": "cf11a4b2",
   "metadata": {},
   "outputs": [
    {
     "name": "stdout",
     "output_type": "stream",
     "text": [
      "+---+---------------+------+-------------+------+----------+\n",
      "| ID|           Nome|Status|       Cidade|Vendas|      Data|\n",
      "+---+---------------+------+-------------+------+----------+\n",
      "|  2|Deolinda Vilela| Ativo|Novo Hamburgo|    34|2020-03-05|\n",
      "+---+---------------+------+-------------+------+----------+\n",
      "\n"
     ]
    }
   ],
   "source": [
    "    # Filtrar apenas o despachante de nome Deolinda Vilela com filter\n",
    "despachantes.filter(Func.col(\"Nome\") == \"Deolinda Vilela\").show()"
   ]
  },
  {
   "cell_type": "code",
   "execution_count": 81,
   "id": "c36c9e7d",
   "metadata": {},
   "outputs": [],
   "source": [
    "    # Salvar um DF\n",
    "        # parquet/cvs/JSON/ORC (parquet é o formato padrão)\n",
    "            # Sempre vai criar um diretorio\n",
    "despachantes.write.format(\"parquet\").save(\"/home/anthony/pyspark/Arquivos adicionais/write/dfimportparquet\")"
   ]
  },
  {
   "cell_type": "code",
   "execution_count": 82,
   "id": "9e506022",
   "metadata": {},
   "outputs": [],
   "source": [
    "despachantes.write.format(\"csv\").save(\"/home/anthony/pyspark/Arquivos adicionais/write/dfimportcsv\")"
   ]
  },
  {
   "cell_type": "code",
   "execution_count": 83,
   "id": "da8cf009",
   "metadata": {},
   "outputs": [],
   "source": [
    "despachantes.write.format(\"json\").save(\"/home/anthony/pyspark/Arquivos adicionais/write/dfimportjson\")"
   ]
  },
  {
   "cell_type": "code",
   "execution_count": 84,
   "id": "ce3b012c",
   "metadata": {},
   "outputs": [],
   "source": [
    "despachantes.write.format(\"orc\").save(\"/home/anthony/pyspark/Arquivos adicionais/write/dfimportorc\")"
   ]
  },
  {
   "cell_type": "code",
   "execution_count": 88,
   "id": "fbe9420d",
   "metadata": {},
   "outputs": [
    {
     "name": "stdout",
     "output_type": "stream",
     "text": [
      "+---+-------------------+------+-------------+------+----------+\n",
      "| ID|               Nome|Status|       Cidade|Vendas|      Data|\n",
      "+---+-------------------+------+-------------+------+----------+\n",
      "|  1|   Carminda Pestana| Ativo|  Santa Maria|    23|2020-08-11|\n",
      "|  2|    Deolinda Vilela| Ativo|Novo Hamburgo|    34|2020-03-05|\n",
      "|  3|   Emídio Dornelles| Ativo| Porto Alegre|    34|2020-02-05|\n",
      "|  4|Felisbela Dornelles| Ativo| Porto Alegre|    36|2020-02-05|\n",
      "|  5|     Graça Ornellas| Ativo| Porto Alegre|    12|2020-02-05|\n",
      "|  6|   Matilde Rebouças| Ativo| Porto Alegre|    22|2019-01-05|\n",
      "|  7|    Noêmia   Orriça| Ativo|  Santa Maria|    45|2019-10-05|\n",
      "|  8|      Roque Vásquez| Ativo| Porto Alegre|    65|2020-03-05|\n",
      "|  9|      Uriel Queiroz| Ativo| Porto Alegre|    54|2018-05-05|\n",
      "| 10|   Viviana Sequeira| Ativo| Porto Alegre|     0|2020-09-05|\n",
      "+---+-------------------+------+-------------+------+----------+\n",
      "\n"
     ]
    }
   ],
   "source": [
    "    # importar dados de formatos diversos\n",
    "        # Primeiro renomeamos os arquivos que salvamos, substituindo o nome padrão\n",
    "par = spark.read.format(\"parquet\").load(\"/home/anthony/pyspark/Arquivos adicionais/write/dfimportparquet/despachantes.parquet\")\n",
    "par.show()"
   ]
  },
  {
   "cell_type": "code",
   "execution_count": 95,
   "id": "4e8e7d56",
   "metadata": {},
   "outputs": [
    {
     "data": {
      "text/plain": [
       "StructType([StructField('ID', IntegerType(), True), StructField('Nome', StringType(), True), StructField('Status', StringType(), True), StructField('Cidade', StringType(), True), StructField('Vendas', IntegerType(), True), StructField('Data', StringType(), True)])"
      ]
     },
     "execution_count": 95,
     "metadata": {},
     "output_type": "execute_result"
    }
   ],
   "source": [
    "par.schema"
   ]
  },
  {
   "cell_type": "code",
   "execution_count": 94,
   "id": "33c30bf5",
   "metadata": {},
   "outputs": [
    {
     "name": "stdout",
     "output_type": "stream",
     "text": [
      "+-------------+----------+---+-------------------+------+------+\n",
      "|       Cidade|      Data| ID|               Nome|Status|Vendas|\n",
      "+-------------+----------+---+-------------------+------+------+\n",
      "|  Santa Maria|2020-08-11|  1|   Carminda Pestana| Ativo|    23|\n",
      "|Novo Hamburgo|2020-03-05|  2|    Deolinda Vilela| Ativo|    34|\n",
      "| Porto Alegre|2020-02-05|  3|   Emídio Dornelles| Ativo|    34|\n",
      "| Porto Alegre|2020-02-05|  4|Felisbela Dornelles| Ativo|    36|\n",
      "| Porto Alegre|2020-02-05|  5|     Graça Ornellas| Ativo|    12|\n",
      "| Porto Alegre|2019-01-05|  6|   Matilde Rebouças| Ativo|    22|\n",
      "|  Santa Maria|2019-10-05|  7|    Noêmia   Orriça| Ativo|    45|\n",
      "| Porto Alegre|2020-03-05|  8|      Roque Vásquez| Ativo|    65|\n",
      "| Porto Alegre|2018-05-05|  9|      Uriel Queiroz| Ativo|    54|\n",
      "| Porto Alegre|2020-09-05| 10|   Viviana Sequeira| Ativo|     0|\n",
      "+-------------+----------+---+-------------------+------+------+\n",
      "\n"
     ]
    },
    {
     "name": "stderr",
     "output_type": "stream",
     "text": [
      "                                                                                \r"
     ]
    }
   ],
   "source": [
    "js = spark.read.format(\"json\").load(\"/home/anthony/pyspark/Arquivos adicionais/write/dfimportjson/despachantes.json\")\n",
    "js.show()"
   ]
  },
  {
   "cell_type": "code",
   "execution_count": 96,
   "id": "09935e7e",
   "metadata": {},
   "outputs": [
    {
     "data": {
      "text/plain": [
       "StructType([StructField('Cidade', StringType(), True), StructField('Data', StringType(), True), StructField('ID', LongType(), True), StructField('Nome', StringType(), True), StructField('Status', StringType(), True), StructField('Vendas', LongType(), True)])"
      ]
     },
     "execution_count": 96,
     "metadata": {},
     "output_type": "execute_result"
    }
   ],
   "source": [
    "js.schema"
   ]
  },
  {
   "cell_type": "code",
   "execution_count": 91,
   "id": "89974e34",
   "metadata": {},
   "outputs": [
    {
     "name": "stdout",
     "output_type": "stream",
     "text": [
      "+---+-------------------+------+-------------+------+----------+\n",
      "| ID|               Nome|Status|       Cidade|Vendas|      Data|\n",
      "+---+-------------------+------+-------------+------+----------+\n",
      "|  1|   Carminda Pestana| Ativo|  Santa Maria|    23|2020-08-11|\n",
      "|  2|    Deolinda Vilela| Ativo|Novo Hamburgo|    34|2020-03-05|\n",
      "|  3|   Emídio Dornelles| Ativo| Porto Alegre|    34|2020-02-05|\n",
      "|  4|Felisbela Dornelles| Ativo| Porto Alegre|    36|2020-02-05|\n",
      "|  5|     Graça Ornellas| Ativo| Porto Alegre|    12|2020-02-05|\n",
      "|  6|   Matilde Rebouças| Ativo| Porto Alegre|    22|2019-01-05|\n",
      "|  7|    Noêmia   Orriça| Ativo|  Santa Maria|    45|2019-10-05|\n",
      "|  8|      Roque Vásquez| Ativo| Porto Alegre|    65|2020-03-05|\n",
      "|  9|      Uriel Queiroz| Ativo| Porto Alegre|    54|2018-05-05|\n",
      "| 10|   Viviana Sequeira| Ativo| Porto Alegre|     0|2020-09-05|\n",
      "+---+-------------------+------+-------------+------+----------+\n",
      "\n"
     ]
    }
   ],
   "source": [
    "orc = spark.read.format(\"orc\").load(\"/home/anthony/pyspark/Arquivos adicionais/write/dfimportorc/despachantes.orc\")\n",
    "orc.show()"
   ]
  },
  {
   "cell_type": "code",
   "execution_count": 96,
   "id": "38a5f545",
   "metadata": {},
   "outputs": [
    {
     "name": "stdout",
     "output_type": "stream",
     "text": [
      "root\n",
      " |-- ID: integer (nullable = true)\n",
      " |-- Nome: string (nullable = true)\n",
      " |-- Status: string (nullable = true)\n",
      " |-- Cidade: string (nullable = true)\n",
      " |-- Vendas: integer (nullable = true)\n",
      " |-- Data: timestamp (nullable = true)\n",
      " |-- data2: timestamp (nullable = true)\n",
      "\n"
     ]
    }
   ],
   "source": [
    "orc.printSchema()\n",
    "orc = orc.withColumn(\"Data\", to_timestamp(Func.col(\"Data\"),\"yyyy-MM-d\"))\n",
    "orc = orc.drop(\"data2\")"
   ]
  },
  {
   "cell_type": "code",
   "execution_count": 93,
   "id": "7bc519c1",
   "metadata": {},
   "outputs": [
    {
     "name": "stdout",
     "output_type": "stream",
     "text": [
      "+---+-------------------+-----+-------------+---+----------+\n",
      "|_c0|                _c1|  _c2|          _c3|_c4|       _c5|\n",
      "+---+-------------------+-----+-------------+---+----------+\n",
      "|  1|   Carminda Pestana|Ativo|  Santa Maria| 23|2020-08-11|\n",
      "|  2|    Deolinda Vilela|Ativo|Novo Hamburgo| 34|2020-03-05|\n",
      "|  3|   Emídio Dornelles|Ativo| Porto Alegre| 34|2020-02-05|\n",
      "|  4|Felisbela Dornelles|Ativo| Porto Alegre| 36|2020-02-05|\n",
      "|  5|     Graça Ornellas|Ativo| Porto Alegre| 12|2020-02-05|\n",
      "|  6|   Matilde Rebouças|Ativo| Porto Alegre| 22|2019-01-05|\n",
      "|  7|    Noêmia   Orriça|Ativo|  Santa Maria| 45|2019-10-05|\n",
      "|  8|      Roque Vásquez|Ativo| Porto Alegre| 65|2020-03-05|\n",
      "|  9|      Uriel Queiroz|Ativo| Porto Alegre| 54|2018-05-05|\n",
      "| 10|   Viviana Sequeira|Ativo| Porto Alegre|  0|2020-09-05|\n",
      "+---+-------------------+-----+-------------+---+----------+\n",
      "\n"
     ]
    }
   ],
   "source": [
    "csv = spark.read.format(\"csv\").load(\"/home/anthony/pyspark/Arquivos adicionais/write/dfimportcsv/despachantes.csv\")\n",
    "csv.show()"
   ]
  },
  {
   "cell_type": "code",
   "execution_count": 99,
   "id": "999b6651",
   "metadata": {},
   "outputs": [
    {
     "data": {
      "text/plain": [
       "StructType([StructField('_c0', StringType(), True), StructField('_c1', StringType(), True), StructField('_c2', StringType(), True), StructField('_c3', StringType(), True), StructField('_c4', StringType(), True), StructField('_c5', StringType(), True)])"
      ]
     },
     "execution_count": 99,
     "metadata": {},
     "output_type": "execute_result"
    }
   ],
   "source": [
    "csv.schema"
   ]
  },
  {
   "cell_type": "code",
   "execution_count": 100,
   "id": "d14361b5",
   "metadata": {},
   "outputs": [
    {
     "data": {
      "text/plain": [
       "'ID INT, Nome STRING, Status STRING, Cidade STRING, Vendas INT, Data STRING'"
      ]
     },
     "execution_count": 100,
     "metadata": {},
     "output_type": "execute_result"
    }
   ],
   "source": [
    "    # Definindo o schema\n",
    "arqschema"
   ]
  },
  {
   "cell_type": "code",
   "execution_count": 101,
   "id": "7e92452b",
   "metadata": {},
   "outputs": [
    {
     "name": "stdout",
     "output_type": "stream",
     "text": [
      "+---+-------------------+------+-------------+------+----------+\n",
      "| ID|               Nome|Status|       Cidade|Vendas|      Data|\n",
      "+---+-------------------+------+-------------+------+----------+\n",
      "|  1|   Carminda Pestana| Ativo|  Santa Maria|    23|2020-08-11|\n",
      "|  2|    Deolinda Vilela| Ativo|Novo Hamburgo|    34|2020-03-05|\n",
      "|  3|   Emídio Dornelles| Ativo| Porto Alegre|    34|2020-02-05|\n",
      "|  4|Felisbela Dornelles| Ativo| Porto Alegre|    36|2020-02-05|\n",
      "|  5|     Graça Ornellas| Ativo| Porto Alegre|    12|2020-02-05|\n",
      "|  6|   Matilde Rebouças| Ativo| Porto Alegre|    22|2019-01-05|\n",
      "|  7|    Noêmia   Orriça| Ativo|  Santa Maria|    45|2019-10-05|\n",
      "|  8|      Roque Vásquez| Ativo| Porto Alegre|    65|2020-03-05|\n",
      "|  9|      Uriel Queiroz| Ativo| Porto Alegre|    54|2018-05-05|\n",
      "| 10|   Viviana Sequeira| Ativo| Porto Alegre|     0|2020-09-05|\n",
      "+---+-------------------+------+-------------+------+----------+\n",
      "\n"
     ]
    }
   ],
   "source": [
    "csv2 = spark.read.format(\"csv\").load(\"/home/anthony/pyspark/Arquivos adicionais/write/dfimportcsv/despachantes.csv\", schema=arqschema)\n",
    "csv2.show()"
   ]
  },
  {
   "cell_type": "code",
   "execution_count": 102,
   "id": "9c272a9f",
   "metadata": {},
   "outputs": [
    {
     "data": {
      "text/plain": [
       "StructType([StructField('ID', IntegerType(), True), StructField('Nome', StringType(), True), StructField('Status', StringType(), True), StructField('Cidade', StringType(), True), StructField('Vendas', IntegerType(), True), StructField('Data', StringType(), True)])"
      ]
     },
     "execution_count": 102,
     "metadata": {},
     "output_type": "execute_result"
    }
   ],
   "source": [
    "csv2.schema"
   ]
  },
  {
   "cell_type": "code",
   "execution_count": null,
   "id": "4992a37b",
   "metadata": {},
   "outputs": [],
   "source": []
  }
 ],
 "metadata": {
  "kernelspec": {
   "display_name": "Python 3 (ipykernel)",
   "language": "python",
   "name": "python3"
  },
  "language_info": {
   "codemirror_mode": {
    "name": "ipython",
    "version": 3
   },
   "file_extension": ".py",
   "mimetype": "text/x-python",
   "name": "python",
   "nbconvert_exporter": "python",
   "pygments_lexer": "ipython3",
   "version": "3.10.12"
  }
 },
 "nbformat": 4,
 "nbformat_minor": 5
}
